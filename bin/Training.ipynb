{
 "cells": [
  {
   "cell_type": "markdown",
   "metadata": {},
   "source": [
    "## Training Notebook:\n",
    "\n",
    "Currently Handles only case of single task - can be adapted for mutlitask output by summing across losses and taking a step back in that way: See --> https://towardsdatascience.com/tuning-a-multi-task-fate-grand-order-trained-pytorch-network-152cfda2e086"
   ]
  },
  {
   "cell_type": "markdown",
   "metadata": {},
   "source": [
    "**Requirements:**\n",
    "\n",
    "1) Pytorch and all subclasses (eg., nn and F) <br>\n",
    "2) DontGetSNPpyWithMe.py in same folder as this notebook<br>\n",
    "3) EarlyStop.py in same folder as this notebook "
   ]
  },
  {
   "cell_type": "markdown",
   "metadata": {},
   "source": [
    "**Import necessary packages:**"
   ]
  },
  {
   "cell_type": "code",
   "execution_count": 1,
   "metadata": {},
   "outputs": [],
   "source": [
    "import torch \n",
    "import argparse\n",
    "import os\n",
    "import numpy as np\n",
    "from torch.utils.data import DataLoader\n",
    "from DontGetSNPpyWithMe import * #The neural net\n",
    "import torch.optim as optim\n",
    "import torch.nn.functional as F\n",
    "from EarlyStop import * #Early Stopping object\n",
    "from data_loader import *\n",
    "from SecretTunnels import *\n",
    "from PrepareForTrouble import *\n",
    "import matplotlib.pyplot as plt"
   ]
  },
  {
   "cell_type": "markdown",
   "metadata": {},
   "source": [
    "**Define a Validation Splitting Function (maybe handle externally by randomly sampling in a phenotype balanced way so can just read in and go here), and read in training, validation, and test (openSNP) data:**"
   ]
  },
  {
   "cell_type": "markdown",
   "metadata": {},
   "source": [
    "Define variables that can be easily changed for model instantiation later in one place:"
   ]
  },
  {
   "cell_type": "code",
   "execution_count": 2,
   "metadata": {},
   "outputs": [],
   "source": [
    "batchSize = 32\n",
    "numSNPs= 276563  # 500000\n",
    "numLayers = 5\n",
    "layerWidths = [512, 512, 256, 128, 64]\n",
    "dropout = 0.5\n",
    "multitaskOutputs = [3]\n",
    "learningRate = 5e-3\n",
    "epochs = 5\n",
    "patience = 5\n",
    "weighted = True"
   ]
  },
  {
   "cell_type": "markdown",
   "metadata": {},
   "source": [
    "do dataloader tings: --> **Edited** so Train is shuffled so no random unbalanced batches throw everything off by accident\n",
    "\n",
    "Guess test and val train don't matter if shuffled since just eval-ing it"
   ]
  },
  {
   "cell_type": "code",
   "execution_count": 3,
   "metadata": {},
   "outputs": [],
   "source": [
    "train_loader = get_loader(genotype_file=\"../Sheen/train_set.pickle\",\n",
    "                          phenotype_file=\"../Sheen/train_labels.csv\",\n",
    "                          batch_size=batchSize,\n",
    "                          shuffle=True,\n",
    "                          num_workers=4,\n",
    "                          pickle=True)\n",
    "val_loader = get_loader(genotype_file=\"../Sheen/val_set.pickle\",\n",
    "                          phenotype_file=\"../Sheen/val_labels.csv\",\n",
    "                          batch_size=batchSize,\n",
    "                          shuffle=False,\n",
    "                          num_workers=4,\n",
    "                          pickle=True)\n",
    "test_loader = get_loader(genotype_file=\"../Sheen/test_set.pickle\",\n",
    "                          phenotype_file=\"../Sheen/test_labels.csv\",\n",
    "                          batch_size=batchSize,\n",
    "                          shuffle=False,\n",
    "                          num_workers=4,\n",
    "                          pickle=True)"
   ]
  },
  {
   "cell_type": "code",
   "execution_count": 4,
   "metadata": {},
   "outputs": [],
   "source": [
    "#len(test_loader.dataset[0][0])"
   ]
  },
  {
   "cell_type": "code",
   "execution_count": 5,
   "metadata": {},
   "outputs": [
    {
     "name": "stdout",
     "output_type": "stream",
     "text": [
      "Dimensions of training set: 276563 x 2003\n",
      "Dimensions of validation set: 276563 x 501\n",
      "Dimensions of test set: 276563 x 590\n"
     ]
    }
   ],
   "source": [
    "print(\"Dimensions of training set: {} x {}\".format(len(train_loader.dataset[0][0]), len(train_loader.dataset)))\n",
    "print(\"Dimensions of validation set: {} x {}\".format(len(val_loader.dataset[0][0]), len(val_loader.dataset)))\n",
    "print(\"Dimensions of test set: {} x {}\".format(len(test_loader.dataset[0][0]), len(test_loader.dataset)))"
   ]
  },
  {
   "cell_type": "markdown",
   "metadata": {},
   "source": [
    "Instantiate the model, loss function, and optimizer using the above parameters:"
   ]
  },
  {
   "cell_type": "code",
   "execution_count": 6,
   "metadata": {},
   "outputs": [],
   "source": [
    "soHeavy = [1/1784, 1/214 , 1/5]  # 1/class_size for now"
   ]
  },
  {
   "cell_type": "code",
   "execution_count": 7,
   "metadata": {},
   "outputs": [
    {
     "name": "stdout",
     "output_type": "stream",
     "text": [
      "\n",
      "\n"
     ]
    }
   ],
   "source": [
    "derekZoolander = DiddyKongRacing([batchSize,numSNPs], numLayers, layerWidths, dropout, multitaskOutputs)\n",
    "optimizer = optim.Adam(derekZoolander.parameters(), lr=learningRate) # can add in regularization w/ wd as well later: weight_decay=1e-4) "
   ]
  },
  {
   "cell_type": "markdown",
   "metadata": {},
   "source": [
    "Move the model to gpu if available:"
   ]
  },
  {
   "cell_type": "code",
   "execution_count": 8,
   "metadata": {},
   "outputs": [
    {
     "name": "stdout",
     "output_type": "stream",
     "text": [
      "cuda\n",
      "Using Weighted Cross Entropy as Loss f(x)\n"
     ]
    }
   ],
   "source": [
    "pleaseBeGpu = torch.device('cuda' if torch.cuda.is_available() else 'cpu')\n",
    "print(pleaseBeGpu)\n",
    "derekZoolander = derekZoolander.to(pleaseBeGpu)\n",
    "torchMe = torch.FloatTensor(soHeavy).to(pleaseBeGpu)\n",
    "if weighted:\n",
    "    criterion = nn.CrossEntropyLoss(weight=torchMe)  # Implement weighted loss\n",
    "    print(\"Using Weighted Cross Entropy as Loss f(x)\")\n",
    "else: \n",
    "    criterion = nn.CrossEntropyLoss()\n",
    "    print(\"Using unweighted Cross Entropy as Loss f(x)\")"
   ]
  },
  {
   "cell_type": "markdown",
   "metadata": {},
   "source": [
    "Define a Function to calc accuracy on a batch since the model returns raw outputs and not softmax!:"
   ]
  },
  {
   "cell_type": "code",
   "execution_count": 9,
   "metadata": {},
   "outputs": [],
   "source": [
    "#input of 2 tensors --> make sure labels is a tensor of size == batch size\n",
    "#output: Total number of matches (accuracy can be returned by removing the comment # below); \n",
    "# this was done to get accuracy on an epoch basis where can be weighted by total number of samples as opposed to a per batch basis\n",
    "def AccuracyCalc(raw, labels): \n",
    "    payMeForMyPredictions = torch.argmax(F.softmax(raw, dim = 1), dim = 1)\n",
    "    return sum(payMeForMyPredictions.eq(labels)).item() #/len(lables)"
   ]
  },
  {
   "cell_type": "markdown",
   "metadata": {},
   "source": [
    "Define a validation (and Test) function (also base case of evaluation for epoch 0): \n",
    "\n",
    "Can mute print statements later when running everything especially with test set and when plotting is integrated but for now they are there to ensure things intuitively are working and can get a sense model is improving in real time."
   ]
  },
  {
   "cell_type": "code",
   "execution_count": 10,
   "metadata": {},
   "outputs": [],
   "source": [
    "#inputs: 1) model (derekZoolander) 2) current epoch number 3) validation dataloader 4) Loss function 5) device\n",
    "#outputs: 1) accuracy 2) loss\n",
    "\n",
    "def Validate(model, epochNum, data = val_loader, lossFn = criterion, device = pleaseBeGpu):\n",
    "    model.eval() #shut off batch norm and dropout\n",
    "    # numBatches = 0 in case want to know how many batches iterating through\n",
    "    totalSamples = 0\n",
    "    totalLoss = 0\n",
    "    numerator = 0\n",
    "    for i, (snpBatch, phenotypeBatch) in enumerate(data):            \n",
    "        totalSamples += len(phenotypeBatch) #running total of number of samples\n",
    "\n",
    "        #move labels to gpu (hopefully)\n",
    "        snpBatch = snpBatch.to(device)\n",
    "        phenotypeBatch = phenotypeBatch.to(device)\n",
    "\n",
    "        #Run it:\n",
    "        output = model(snpBatch)\n",
    "        loss = lossFn(output[0], phenotypeBatch.squeeze(1)) #recall output returns a list to handle multi-task learning so here the prediction is output[0]\n",
    "\n",
    "        #Calculate accuracy:\n",
    "        numerator += AccuracyCalc(output[0], phenotypeBatch.squeeze(1))\n",
    "        totalLoss += loss.item()\n",
    "        \n",
    "    epochAcc = numerator/(totalSamples)\n",
    "    totalLoss = totalLoss/totalSamples\n",
    "    #print(\"Validation accuracy at epoch {} is: {} .\".format(epochNum,epochAcc))\n",
    "    return epochAcc, totalLoss"
   ]
  },
  {
   "cell_type": "markdown",
   "metadata": {},
   "source": [
    "Define a training f(x):"
   ]
  },
  {
   "cell_type": "code",
   "execution_count": 11,
   "metadata": {},
   "outputs": [],
   "source": [
    "#Inputs: 1) model 2) Number of epochs want to train for 3) training dataloader 4) loss function \n",
    "# 5) the device available (cpu or gpu/cuda --> hopefully it is the latter)\n",
    "\n",
    "#Outputs: 4 lists corresponding to a per epoch basis of accuracies and losses\n",
    "# 1) Training Accs 2) Training Losses 3) Validation Accuracies 4) Validation Losses\n",
    "\n",
    "def Train(model, numEpochs = epochs, data = train_loader, lossFn = criterion, device = pleaseBeGpu, modName=\"LankyKong\"):\n",
    "    \n",
    "    #Lists of training accuracies and losses to return for visualization later\n",
    "    losses = []\n",
    "    accuracies = []\n",
    "    \n",
    "    #do base case of untrained: \n",
    "    trainZeroAcc,trainZeroLoss = Validate(model, 0, data = train_loader)\n",
    "    accuracies.append(trainZeroAcc)\n",
    "    losses.append(trainZeroLoss)\n",
    "    del trainZeroAcc, trainZeroLoss\n",
    "    \n",
    "    \n",
    "    #Lists of validation accuracies and losses to return for visualization later\n",
    "    valAccs = []\n",
    "    valLosses = []\n",
    "    #do baseCase of untrained:\n",
    "    valZeroAcc,valZeroLoss = Validate(model, 0, data = val_loader)\n",
    "    valAccs.append(valZeroAcc)\n",
    "    valLosses.append(valZeroLoss)\n",
    "    del valZeroAcc,valZeroLoss\n",
    "    \n",
    "    #Early stopping structures: \n",
    "    stop = EarlyStop(patience) #Create an EarlyStop object that will evaluate and save the best model if patience has been exceeded\n",
    "    areWeThereYet = False #flag for condition of early stopping\n",
    "    topDog = None #Best model to save if early stopping condition has been met\n",
    "    \n",
    "    #whereStopped = -1 #if early stopping where did it stop? --> new value that is returned will give the number of epochs trained + 1 so that plotting is easy\n",
    "    \n",
    "    for epoch in range(numEpochs):\n",
    "        model.train() # turn on batch norm and dropout\n",
    "        numerator = 0\n",
    "        # numBatches = 0 in case want to know how many batches iterating through\n",
    "        totalSamples = 0\n",
    "        totalLoss = 0\n",
    "        for i, (snpBatch, phenotypeBatch) in enumerate(data):\n",
    "            #numBatches += 1 \n",
    "            #print(snpBatch)\n",
    "            #print(phenotypeBatch)\n",
    "            totalSamples += len(phenotypeBatch) #running total of number of samples\n",
    "            \n",
    "            optimizer.zero_grad() #zero the gradient to prevent accumulation; apparently can also do model.zero_grad() as well and does the same thing...\n",
    "            \n",
    "            #move labels to gpu (hopefully)\n",
    "            snpBatch = snpBatch.to(device)\n",
    "            phenotypeBatch = phenotypeBatch.to(device)\n",
    "            \n",
    "            #Run it:\n",
    "            output = model(snpBatch)\n",
    "            loss = lossFn(output[0], phenotypeBatch.squeeze(1)) #recall output returns a list to handle multi-task learning so here the prediction is output[0]\n",
    "            \n",
    "            #Calculate accuracy:\n",
    "            numerator += AccuracyCalc(output[0], phenotypeBatch.squeeze(1))\n",
    "            totalLoss += loss.item()\n",
    "            \n",
    "            #Train it: \n",
    "            loss.backward()\n",
    "            optimizer.step()\n",
    "\n",
    "            \n",
    "        epochAcc = numerator/(totalSamples)\n",
    "        totalLoss = totalLoss/totalSamples\n",
    "        #print(\"Training accuracy at epoch {} is: {} .\".format(epoch+1,epochAcc))\n",
    "        #print(\"Training loss at epoch {} is : {} .\".format(epoch+1, totalLoss))\n",
    "        accuracies.append(epochAcc)\n",
    "        losses.append(totalLoss)\n",
    "        \n",
    "        #Make some sort of call to Val when finished --> can discuss how want to do this of not a happy camper w/ this\n",
    "        valAcc, valLoss = Validate(model, epoch + 1, data = val_loader)\n",
    "        valAccs.append(valAcc)\n",
    "        valLosses.append(valLoss)\n",
    "        \n",
    "        #Early Stopping: \n",
    "        areWeThereYet, topDog = stop(valLoss, model)\n",
    "        if areWeThereYet:\n",
    "            #Change this name later so can include hyperparametrs, etc\n",
    "            torch.save(topDog.state_dict(), '../models/{}.pt'.format(\"BestModel_\"+ modName + \"_\" +str(epoch) +\"_epochs_\" + str(numLayers) + \"_hiddenLayers\")) \n",
    "            print(\"Early stopping at epoch:\" + str(epoch+1))\n",
    "            #whereStopped = epoch + 1\n",
    "            break\n",
    "        \n",
    "        \n",
    "    #Save final model if no early stopping\n",
    "    if not areWeThereYet:\n",
    "        print(\"Ugh didn't get to go home early, well lets save the final epoch model anyway.\")\n",
    "        torch.save(topDog.state_dict(), '../models/{}.pt'.format(\"BestModel_\" + modName + \"_\" +str(epochs) +\"_epochs_\" + str(numLayers) + \"_hiddenLayers\"))\n",
    "        #whereStopped = numEpochs + 1\n",
    "    return accuracies, losses, valAccs, valLosses #, whereStopped"
   ]
  },
  {
   "cell_type": "code",
   "execution_count": 12,
   "metadata": {},
   "outputs": [],
   "source": [
    "# Test with dataloader\n",
    "#t_accs, t_losses, val_accs, val_losses, \\\n",
    "#    = Train(derekZoolander, numEpochs = epochs, data = train_loader, lossFn = criterion, device = pleaseBeGpu)"
   ]
  },
  {
   "cell_type": "markdown",
   "metadata": {},
   "source": [
    "Quick Test run to ensure skeleton code (should) work(s):"
   ]
  },
  {
   "cell_type": "markdown",
   "metadata": {},
   "source": [
    "**Seems to run properly!**"
   ]
  },
  {
   "cell_type": "markdown",
   "metadata": {},
   "source": [
    "Main F(x) (or some sort of cohesive structure) and Plotting: Tbd"
   ]
  },
  {
   "cell_type": "code",
   "execution_count": 13,
   "metadata": {},
   "outputs": [
    {
     "data": {
      "text/plain": [
       "'\\nfig,ax = plt.subplots(figsize=(6,5))\\nax.set_ylabel(\\'Losses\\')\\nax.set_xlabel(\\'Epochs\\')\\n_=ax.plot(range(0, endPlace), t_losses,\\'b-\\',color=\"blue\",label=\"train\")\\n_=ax.plot(range(0, endPlace), val_losses,\\'b-\\',color=\"orange\",label=\"valid\")\\nplt.legend()\\nplt.title(\"Loss on training set and holdout set vs. number of epochs\")\\n#plt.savefig()\\n'"
      ]
     },
     "execution_count": 13,
     "metadata": {},
     "output_type": "execute_result"
    }
   ],
   "source": [
    "# Loss plotting\n",
    "'''\n",
    "fig,ax = plt.subplots(figsize=(6,5))\n",
    "ax.set_ylabel('Losses')\n",
    "ax.set_xlabel('Epochs')\n",
    "_=ax.plot(range(0, endPlace), t_losses,'b-',color=\"blue\",label=\"train\")\n",
    "_=ax.plot(range(0, endPlace), val_losses,'b-',color=\"orange\",label=\"valid\")\n",
    "plt.legend()\n",
    "plt.title(\"Loss on training set and holdout set vs. number of epochs\")\n",
    "#plt.savefig()\n",
    "'''"
   ]
  },
  {
   "cell_type": "code",
   "execution_count": 14,
   "metadata": {},
   "outputs": [
    {
     "data": {
      "text/plain": [
       "'\\n# Accuracy plotting\\nfig,ax = plt.subplots(figsize=(6,5))\\nax.set_ylabel(\\'Accuracies\\')\\nax.set_xlabel(\\'Epochs\\')\\n_=ax.plot(range(0, endPlace), t_accs,\\'b-\\',color=\"blue\",label=\"train\")\\n_=ax.plot(range(0, endPlace), val_accs,\\'b-\\',color=\"orange\",label=\"valid\")\\nplt.legend()\\nplt.title(\"Loss on training set and holdout set vs. number of epochs\")\\n'"
      ]
     },
     "execution_count": 14,
     "metadata": {},
     "output_type": "execute_result"
    }
   ],
   "source": [
    "'''\n",
    "# Accuracy plotting\n",
    "fig,ax = plt.subplots(figsize=(6,5))\n",
    "ax.set_ylabel('Accuracies')\n",
    "ax.set_xlabel('Epochs')\n",
    "_=ax.plot(range(0, endPlace), t_accs,'b-',color=\"blue\",label=\"train\")\n",
    "_=ax.plot(range(0, endPlace), val_accs,'b-',color=\"orange\",label=\"valid\")\n",
    "plt.legend()\n",
    "plt.title(\"Loss on training set and holdout set vs. number of epochs\")\n",
    "'''"
   ]
  },
  {
   "cell_type": "code",
   "execution_count": 15,
   "metadata": {},
   "outputs": [],
   "source": [
    "# Running through the test set\n",
    "#test_acc, test_loss = Validate(derekZoolander, \n",
    "#                               epochNum=0, \n",
    "#                               data = test_loader, \n",
    "#                               lossFn = criterion, \n",
    "#                               device = pleaseBeGpu)"
   ]
  },
  {
   "cell_type": "markdown",
   "metadata": {},
   "source": [
    "For convenience before everything that was instantiated previously is here in case want to change later: Commented out cells are those that are hyperparameter searched for or instantiated differently in automagic handling of this..."
   ]
  },
  {
   "cell_type": "code",
   "execution_count": 16,
   "metadata": {},
   "outputs": [
    {
     "name": "stdout",
     "output_type": "stream",
     "text": [
      "What are we using? cuda\n",
      "Using Weighted Cross Entropy as Loss f(x)\n"
     ]
    }
   ],
   "source": [
    "batchSize = 32\n",
    "numSNPs= 276563  \n",
    "\n",
    "#numLayers = 5\n",
    "#layerWidths = [512, 512, 256, 128, 64]\n",
    "\n",
    "dropout = 0.5\n",
    "multitaskOutputs = [3]\n",
    "learningRate = 5e-3\n",
    "epochs = 100\n",
    "patience = 4\n",
    "weighted = True #The flag for the loss function\n",
    "\n",
    "\n",
    "#derekZoolander = DiddyKongRacing([batchSize,numSNPs], numLayers, layerWidths, dropout, multitaskOutputs)\n",
    "#optimizer = optim.Adam(derekZoolander.parameters(), lr=learningRate)\n",
    "\n",
    "\n",
    "pleaseBeGpu = torch.device('cuda' if torch.cuda.is_available() else 'cpu')\n",
    "print(\"What are we using? {}\".format(pleaseBeGpu))\n",
    "\n",
    "#derekZoolander = derekZoolander.to(pleaseBeGpu)\n",
    "\n",
    "soHeavy = [1/1784, 1/214 , 1/5]  # 1/class_size for now\n",
    "torchMe = torch.FloatTensor(soHeavy).to(pleaseBeGpu)\n",
    "if weighted:\n",
    "    criterion = nn.CrossEntropyLoss(weight=torchMe)  # Implement weighted loss\n",
    "    print(\"Using Weighted Cross Entropy as Loss f(x)\")\n",
    "else: \n",
    "    criterion = nn.CrossEntropyLoss()\n",
    "    print(\"Using unweighted Cross Entropy as Loss f(x)\")"
   ]
  },
  {
   "cell_type": "code",
   "execution_count": null,
   "metadata": {},
   "outputs": [],
   "source": [
    "'''\n",
    "if __name__ == \"__main__\":\n",
    "    hyperParameterSearchFile = pd.read_csv(\"WhoYouGonnaCall.csv\") #--> Don't trample me Stu Pickles I used read_csv... \n",
    "    \n",
    "    for i, row in hyperParameterSearchFile.iterrows():\n",
    "        print(\"Beginning Model: \" + str(row[\"Model\"]))\n",
    "        numLayers = row[\"Num_hidden_layers\"]\n",
    "        layerWidths = list(map(int, row[\"Layer_widths\"].split(\";\")))\n",
    "        hansel = DiddyKongRacing([batchSize,numSNPs], numLayers, layerWidths, dropout, multitaskOutputs)\n",
    "        optimizer = optim.Adam(hansel.parameters(), lr=learningRate)\n",
    "        \n",
    "        hansel = hansel.to(pleaseBeGpu)\n",
    "        \n",
    "        t_accs, t_losses, val_accs, val_losses\\\n",
    "    = Train(hansel, numEpochs = epochs, data = train_loader, lossFn = criterion, device = pleaseBeGpu, modName = str(row[\"Model\"]))\n",
    "        \n",
    "        if len(t_accs) < (epochs + 1): #early stopped so have to index where ES relevant results are\n",
    "            print(\"Early Stopping...\")\n",
    "            hyperParameterSearchFile.loc[i, \"Train_Acc\"] = t_accs[len(t_accs) - 1 - patience] \n",
    "            hyperParameterSearchFile.loc[i, \"Val_Acc\"] = val_accs[len(val_accs) - 1 - patience]\n",
    "            hyperParameterSearchFile.loc[i, \"Val_Loss\"] = val_losses[len(val_losses)-1 - patience]\n",
    "            #sanity check that this is correct:\n",
    "            for el in val_losses[len(val_losses)- patience:]:\n",
    "                if el < hyperParameterSearchFile.loc[i, \"Val_Loss\"]:\n",
    "                    print(\"have a problem....\")\n",
    "            hyperParameterSearchFile.loc[i, \"Train_Loss\"] = t_losses[len(t_losses) - 1 - patience]\n",
    "            #Can change this to report the epoch of best loss through ES but currently am just returning the num of epochs trained  \n",
    "            hyperParameterSearchFile.loc[i, \"Early_Stopping_Epoch\"] = len(val_losses) - 1  #since handled 0 instance case the number of trained epochs is the length-1 \n",
    "        \n",
    "        else:\n",
    "            hyperParameterSearchFile.loc[i, \"Train_Acc\"] = t_accs[len(t_accs) - 1]  \n",
    "            hyperParameterSearchFile.loc[i, \"Val_Acc\"] = val_accs[len(val_accs) - 1]\n",
    "            hyperParameterSearchFile.loc[i, \"Val_Loss\"] = val_losses[len(val_losses)-1]\n",
    "            hyperParameterSearchFile.loc[i, \"Train_Loss\"] = t_losses[len(t_losses) - 1]\n",
    "            hyperParameterSearchFile.loc[i, \"Early_Stopping_Epoch\"] = len(val_losses) - 1  #since handled 0 instance case the number of trained epochs is the length-1 \n",
    "        \n",
    "        \n",
    "        crossTraining = open(\"../Statistics/Model\" + str(row[\"Model\"])+\"_TrainStatistics.txt\", 'w') #should be output in csv format\n",
    "        crossTraining.write(\"Loss,Acc\\n\")\n",
    "        for i in range(len(t_accs)): \n",
    "            crossTraining.write(str(t_losses[i]) + \",\" + str(t_accs[i])+ \"\\n\")\n",
    "        crossTraining.close()\n",
    "        \n",
    "        \n",
    "        trustButVerify = open(\"../Statistics/Model\" + str(row[\"Model\"])+ \"_ValStatistics.txt\", 'w')\n",
    "        trustButVerify.write(\"Loss,Acc\\n\")\n",
    "        for i in range(len(val_accs)):\n",
    "            trustButVerify.write(str(val_losses[i]) + \",\" + str(val_accs[i])+ \"\\n\")\n",
    "        trustButVerify.close()\n",
    "        \n",
    "        \n",
    "        fig,ax = plt.subplots(figsize=(6,5))\n",
    "        ax.set_ylabel('Losses')\n",
    "        ax.set_xlabel('Epochs')\n",
    "        _=ax.plot(range(0, len(t_losses)), t_losses,'b-',color=\"blue\",label=\"train\")\n",
    "        _=ax.plot(range(0, len(val_losses)), val_losses,'b-',color=\"orange\",label=\"valid\")\n",
    "        plt.legend()\n",
    "        plt.title(\"Model \"+ str(row[\"Model\"]) + \": Loss on training set and holdout set vs. number of epochs\")\n",
    "        plt.savefig(\"../Plots/Model\" + str(row[\"Model\"])+ \"_Losses.png\")\n",
    "        \n",
    "        fig,ax = plt.subplots(figsize=(6,5))\n",
    "        ax.set_ylabel('Accuracies')\n",
    "        ax.set_xlabel('Epochs')\n",
    "        _=ax.plot(range(0, len(t_accs)), t_accs,'b-',color=\"blue\",label=\"train\")\n",
    "        _=ax.plot(range(0, len(val_accs)), val_accs,'b-',color=\"orange\",label=\"valid\")\n",
    "        plt.legend()\n",
    "        plt.title(\"Model \"+ str(row[\"Model\"]) + \": Accuracy on training set and holdout set vs. number of epochs\")\n",
    "        plt.savefig(\"../Plots/Model\" + str(row[\"Model\"])+ \"_Accuracies.png\")\n",
    "        \n",
    "        del hansel,optimizer #don't want to save this each time --> best model is already saved in models folder \n",
    "        print(\"\\nFinished model \" + str(row[\"Model\"])+ \" - \" + SomethingClever() +\"\\n\")\n",
    "        \n",
    "    hyperParameterSearchFile.to_csv(\"LookAtThisWizardry.csv\")\n",
    "'''"
   ]
  },
  {
   "cell_type": "code",
   "execution_count": null,
   "metadata": {},
   "outputs": [],
   "source": [
    "hyperParameterSearchFile.head()"
   ]
  },
  {
   "cell_type": "markdown",
   "metadata": {},
   "source": [
    "Load in one of the saved models in eval mode (Get_Gymwrecked had the lowest loss on val set see cell below)"
   ]
  },
  {
   "cell_type": "code",
   "execution_count": 17,
   "metadata": {},
   "outputs": [
    {
     "data": {
      "text/html": [
       "<div>\n",
       "<style scoped>\n",
       "    .dataframe tbody tr th:only-of-type {\n",
       "        vertical-align: middle;\n",
       "    }\n",
       "\n",
       "    .dataframe tbody tr th {\n",
       "        vertical-align: top;\n",
       "    }\n",
       "\n",
       "    .dataframe thead th {\n",
       "        text-align: right;\n",
       "    }\n",
       "</style>\n",
       "<table border=\"1\" class=\"dataframe\">\n",
       "  <thead>\n",
       "    <tr style=\"text-align: right;\">\n",
       "      <th></th>\n",
       "      <th>Num_hidden_layers</th>\n",
       "      <th>Layer_widths</th>\n",
       "      <th>Train_Acc</th>\n",
       "      <th>Val_Acc</th>\n",
       "      <th>Train_Loss</th>\n",
       "      <th>Val_Loss</th>\n",
       "      <th>Early_Stopping_Epoch</th>\n",
       "    </tr>\n",
       "    <tr>\n",
       "      <th>Model</th>\n",
       "      <th></th>\n",
       "      <th></th>\n",
       "      <th></th>\n",
       "      <th></th>\n",
       "      <th></th>\n",
       "      <th></th>\n",
       "      <th></th>\n",
       "    </tr>\n",
       "  </thead>\n",
       "  <tbody>\n",
       "    <tr>\n",
       "      <th>Hey_Kid_You_Suck</th>\n",
       "      <td>4</td>\n",
       "      <td>256;256;64;64</td>\n",
       "      <td>0.985022</td>\n",
       "      <td>0.932136</td>\n",
       "      <td>0.002437</td>\n",
       "      <td>0.033211</td>\n",
       "      <td>58.0</td>\n",
       "    </tr>\n",
       "    <tr>\n",
       "      <th>I_Am_Peaches</th>\n",
       "      <td>3</td>\n",
       "      <td>256;64;16</td>\n",
       "      <td>0.976036</td>\n",
       "      <td>0.932136</td>\n",
       "      <td>0.003282</td>\n",
       "      <td>0.050060</td>\n",
       "      <td>100.0</td>\n",
       "    </tr>\n",
       "    <tr>\n",
       "      <th>how_many_rings_you_got_kobe</th>\n",
       "      <td>5</td>\n",
       "      <td>512;256;256;128;32</td>\n",
       "      <td>0.958562</td>\n",
       "      <td>0.932136</td>\n",
       "      <td>0.004885</td>\n",
       "      <td>0.044271</td>\n",
       "      <td>100.0</td>\n",
       "    </tr>\n",
       "    <tr>\n",
       "      <th>doubleTrouble</th>\n",
       "      <td>2</td>\n",
       "      <td>1024;512</td>\n",
       "      <td>0.979031</td>\n",
       "      <td>0.934132</td>\n",
       "      <td>0.002274</td>\n",
       "      <td>0.029513</td>\n",
       "      <td>11.0</td>\n",
       "    </tr>\n",
       "    <tr>\n",
       "      <th>Let_It_Be</th>\n",
       "      <td>3</td>\n",
       "      <td>512;128;32</td>\n",
       "      <td>0.985022</td>\n",
       "      <td>0.934132</td>\n",
       "      <td>0.002292</td>\n",
       "      <td>0.027920</td>\n",
       "      <td>20.0</td>\n",
       "    </tr>\n",
       "  </tbody>\n",
       "</table>\n",
       "</div>"
      ],
      "text/plain": [
       "                             Num_hidden_layers        Layer_widths  Train_Acc  \\\n",
       "Model                                                                           \n",
       "Hey_Kid_You_Suck                             4       256;256;64;64   0.985022   \n",
       "I_Am_Peaches                                 3           256;64;16   0.976036   \n",
       "how_many_rings_you_got_kobe                  5  512;256;256;128;32   0.958562   \n",
       "doubleTrouble                                2            1024;512   0.979031   \n",
       "Let_It_Be                                    3          512;128;32   0.985022   \n",
       "\n",
       "                              Val_Acc  Train_Loss  Val_Loss  \\\n",
       "Model                                                         \n",
       "Hey_Kid_You_Suck             0.932136    0.002437  0.033211   \n",
       "I_Am_Peaches                 0.932136    0.003282  0.050060   \n",
       "how_many_rings_you_got_kobe  0.932136    0.004885  0.044271   \n",
       "doubleTrouble                0.934132    0.002274  0.029513   \n",
       "Let_It_Be                    0.934132    0.002292  0.027920   \n",
       "\n",
       "                             Early_Stopping_Epoch  \n",
       "Model                                              \n",
       "Hey_Kid_You_Suck                             58.0  \n",
       "I_Am_Peaches                                100.0  \n",
       "how_many_rings_you_got_kobe                 100.0  \n",
       "doubleTrouble                                11.0  \n",
       "Let_It_Be                                    20.0  "
      ]
     },
     "execution_count": 17,
     "metadata": {},
     "output_type": "execute_result"
    }
   ],
   "source": [
    "alrightyThen = pd.read_csv(\"LookAtThisWizardry.csv\").sort_values(\"Val_Acc\")\n",
    "alrightyThen.index = alrightyThen.Model\n",
    "alrightyThen = alrightyThen.drop([\"Unnamed: 0\",\"Model\"], axis = 1)\n",
    "alrightyThen.tail()"
   ]
  },
  {
   "cell_type": "code",
   "execution_count": 86,
   "metadata": {},
   "outputs": [
    {
     "name": "stdout",
     "output_type": "stream",
     "text": [
      "\n",
      "\n"
     ]
    },
    {
     "data": {
      "text/plain": [
       "<All keys matched successfully>"
      ]
     },
     "execution_count": 86,
     "metadata": {},
     "output_type": "execute_result"
    }
   ],
   "source": [
    "whichModelPath = \"../models/BestModel_Cinco_De_Mayo_1000_100_epochs_5_hiddenLayers.pt\"#\"../models/BestModel_Let_It_Be_19_epochs_3_hiddenLayers.pt\"\n",
    "whichModel = \"Cinco_De_Mayo\"\n",
    "\n",
    "\n",
    "#whoeverMadeQualExamsAThingHasEarnedMyEternalIre = DiddyKongRacing([batchSize,numSNPs], alrightyThen.loc[whichModel, \"Num_hidden_layers\"], list(map(int, alrightyThen.loc[whichModel, \"Layer_widths\"].split(\";\"))), dropout, multitaskOutputs).eval()\n",
    "whoeverMadeQualExamsAThingHasEarnedMyEternalIre = DiddyKongRacing([batchSize,1000], 5, [512, 256, 128, 64, 32], dropout, multitaskOutputs).eval()\n",
    "whoeverMadeQualExamsAThingHasEarnedMyEternalIre.to(pleaseBeGpu)\n",
    "whoeverMadeQualExamsAThingHasEarnedMyEternalIre.load_state_dict(torch.load(whichModelPath))\n"
   ]
  },
  {
   "cell_type": "code",
   "execution_count": 92,
   "metadata": {},
   "outputs": [],
   "source": [
    "#snpB\n",
    "test_loader1000 = get_loader(genotype_file=\"../Sheen/1000_test_set.pickle\",\n",
    "                          phenotype_file=\"../Sheen/test_labels.csv\",\n",
    "                          batch_size=batchSize,\n",
    "                          shuffle=False,\n",
    "                          num_workers=4,\n",
    "                          pickle=True)\n",
    "#temp = pd.read_pickle(\"../Sheen/1000_test_set.pickle\")\n",
    "#temp.head()"
   ]
  },
  {
   "cell_type": "code",
   "execution_count": 93,
   "metadata": {},
   "outputs": [
    {
     "name": "stdout",
     "output_type": "stream",
     "text": [
      "Test set acc is 0.6864406779661016\n",
      "Test set loss is 0.3342158576189461\n"
     ]
    }
   ],
   "source": [
    "testAcc, testLoss = Validate(whoeverMadeQualExamsAThingHasEarnedMyEternalIre, -1, data = test_loader1000)\n",
    "print(\"Test set acc is {}\".format(testAcc))\n",
    "print(\"Test set loss is {}\".format(testLoss))"
   ]
  },
  {
   "cell_type": "code",
   "execution_count": 94,
   "metadata": {},
   "outputs": [
    {
     "data": {
      "image/png": "[encoded data removed]",
      "text/plain": [
       "<Figure size 504x504 with 1 Axes>"
      ]
     },
     "metadata": {
      "needs_background": "light"
     },
     "output_type": "display_data"
    },
    {
     "data": {
      "image/png": "[encoded data removed]",
      "text/plain": [
       "<Figure size 504x504 with 1 Axes>"
      ]
     },
     "metadata": {
      "needs_background": "light"
     },
     "output_type": "display_data"
    }
   ],
   "source": [
    "whatAreMyScores = np.array(Meowth(whoeverMadeQualExamsAThingHasEarnedMyEternalIre, test_loader1000, pleaseBeGpu))\n",
    "phenotypeLabels = list(pd.read_csv(\"../Sheen/test_labels.csv\").loc[:, \"label\"])\n",
    "irisPlexScores = np.array(pd.read_csv(\"../Sheen/openSNP_final_iris_preds.tsv\", sep=\"\\t\").loc[:, \"brown\":\"other\"])\n",
    "\n",
    "TeamROCket(whatAreMyScores, phenotypeLabels, whichModel) # \"Best Performing Model with All SNPs:\")\n",
    "TeamROCket(irisPlexScores, phenotypeLabels, \"IrisPlex\")"
   ]
  },
  {
   "cell_type": "code",
   "execution_count": 95,
   "metadata": {},
   "outputs": [],
   "source": [
    "vals, indexes = torch.max(F.softmax(torch.tensor(whatAreMyScores),dim=1), dim = 1)\n",
    "indexes = list(indexes)\n",
    "perplexed = [el.argmax() for el in irisPlexScores]\n",
    "#np.array(irisPlexScores)\n",
    "#set(phenotypeLabels)"
   ]
  },
  {
   "cell_type": "code",
   "execution_count": 96,
   "metadata": {},
   "outputs": [
    {
     "name": "stdout",
     "output_type": "stream",
     "text": [
      "For Cinco_De_Mayo the accuracies are as follows: \n",
      "[(0, 0.7660256410256411), (1, 0.8556701030927835), (2, 0.0)]\n",
      "\n",
      "\n"
     ]
    }
   ],
   "source": [
    "from collections import defaultdict\n",
    "classWiseAcc = defaultdict(float)\n",
    "irisPlexAccs = defaultdict(float)\n",
    "classNum = defaultdict(int)\n",
    "for i in range(len(phenotypeLabels)):\n",
    "    classNum[phenotypeLabels[i]] += 1\n",
    "    if phenotypeLabels[i] == indexes[i].item():\n",
    "        classWiseAcc[phenotypeLabels[i]] += 1\n",
    "    if phenotypeLabels[i] == perplexed[i]:\n",
    "        irisPlexAccs[phenotypeLabels[i]] += 1\n",
    "for k,v in classNum.items():\n",
    "    classWiseAcc[k] = classWiseAcc[k]/v\n",
    "    irisPlexAccs[k] = irisPlexAccs[k]/v\n",
    "\n",
    "\n",
    "print(\"For {} the accuracies are as follows: \".format(whichModel))\n",
    "print(sorted(classWiseAcc.items(), key = lambda x: x[0]))\n",
    "print(\"\\n\")"
   ]
  },
  {
   "cell_type": "code",
   "execution_count": null,
   "metadata": {},
   "outputs": [],
   "source": []
  },
  {
   "cell_type": "code",
   "execution_count": 82,
   "metadata": {},
   "outputs": [
    {
     "data": {
      "text/plain": [
       "0.811864406779661"
      ]
     },
     "execution_count": 82,
     "metadata": {},
     "output_type": "execute_result"
    }
   ],
   "source": [
    "sum(np.array(phenotypeLabels) == np.array(perplexed))/len(perplexed)"
   ]
  },
  {
   "cell_type": "markdown",
   "metadata": {},
   "source": [
    "ROC generation (with dummy data not relevant here)."
   ]
  },
  {
   "cell_type": "code",
   "execution_count": null,
   "metadata": {},
   "outputs": [],
   "source": [
    "import matplotlib.pyplot as plt\n",
    "from itertools import cycle\n",
    "\n",
    "#from sklearn import svm, datasets #dont meed\n",
    "from sklearn.metrics import roc_curve, auc\n",
    "#from sklearn.model_selection import train_test_split #Dont need\n",
    "from sklearn.preprocessing import label_binarize\n",
    "#from sklearn.multiclass import OneVsRestClassifier #Don't need\n",
    "#from scipy import interp #dont need if not doing macro which doesn't really make sense \n",
    "from sklearn.metrics import roc_auc_score\n",
    "\n",
    "# Import some data to play with\n",
    "#CAN GET RID OF!\n",
    "\n",
    "#iris = datasets.load_iris()\n",
    "#X = iris.data\n",
    "#y = iris.target #Change to the labels 0,1,2 or can have one-hot encoding and skip the line below label_binarize\n",
    "\n",
    "# Binarize the output\n",
    "y = label_binarize(phenotypeLabels, classes=[0, 1, 2])\n",
    "n_classes = y.shape[1]\n",
    "\n",
    "y_score = irisPlexScores\n",
    "\n",
    "#CAN GET RID OF!\n",
    "# Add noisy features to make the problem harder\n",
    "#random_state = np.random.RandomState(0)\n",
    "#n_samples, n_features = X.shape\n",
    "#X = np.c_[X, random_state.randn(n_samples, 200 * n_features)]\n",
    "\n",
    "#CAN GET RID OF!\n",
    "# shuffle and split training and test sets\n",
    "#X_train, X_test, y_train, y_test = train_test_split(X, y, test_size=.5,\n",
    "#                                                    random_state=0)\n",
    "# Learn to predict each class against the other\n",
    "#classifier = OneVsRestClassifier(svm.SVC(kernel='linear', probability=True,\n",
    "#                                 random_state=random_state))\n",
    "#y_score = classifier.fit(X_train, y_train).decision_function(X_test)\n",
    "\n",
    "# Compute ROC curve and ROC area for each class\n",
    "fpr = dict()\n",
    "tpr = dict()\n",
    "roc_auc = dict()\n",
    "for i in range(n_classes):\n",
    "    fpr[i], tpr[i], _ = roc_curve(y[:, i], y_score[:, i])\n",
    "    roc_auc[i] = auc(fpr[i], tpr[i])\n",
    "\n",
    "# Compute micro-average ROC curve and ROC area\n",
    "fpr[\"micro\"], tpr[\"micro\"], _ = roc_curve(y.ravel(), y_score.ravel())\n",
    "roc_auc[\"micro\"] = auc(fpr[\"micro\"], tpr[\"micro\"])"
   ]
  },
  {
   "cell_type": "code",
   "execution_count": null,
   "metadata": {},
   "outputs": [],
   "source": [
    "\n",
    "#y_score\n",
    "#label_binarize(phenotypeLabels, classes =[0,1,2])\n",
    "#np.array(whatAreMyScores)"
   ]
  },
  {
   "cell_type": "code",
   "execution_count": null,
   "metadata": {},
   "outputs": [],
   "source": [
    "plt.figure(figsize = (5,5))\n",
    "lw = 2\n",
    "plt.plot(fpr[2], tpr[2], color='darkorange',\n",
    "         lw=lw, label='ROC curve (area = %0.2f)' % roc_auc[2]) #If doing single class probs best to do brown\n",
    "plt.plot([0, 1], [0, 1], color='navy', lw=lw, linestyle='--')\n",
    "plt.xlim([0.0, 1.0])\n",
    "plt.ylim([0.0, 1.05])\n",
    "plt.xlabel('False Positive Rate')\n",
    "plt.ylabel('True Positive Rate')\n",
    "plt.title('Test Set: Receiver operating characteristic example')\n",
    "plt.legend(loc=\"lower right\")\n",
    "plt.show()\n"
   ]
  },
  {
   "cell_type": "markdown",
   "metadata": {},
   "source": [
    "micro-average is likely best as will handle class imbalance and can get rid of macro-average...\n"
   ]
  },
  {
   "cell_type": "code",
   "execution_count": null,
   "metadata": {},
   "outputs": [],
   "source": [
    "#all_fpr = np.unique(np.concatenate([fpr[i] for i in range(n_classes)]))\n",
    "\n",
    "# Then interpolate all ROC curves at this points\n",
    "#mean_tpr = np.zeros_like(all_fpr)\n",
    "#for i in range(n_classes):\n",
    "#    mean_tpr += interp(all_fpr, fpr[i], tpr[i])\n",
    "\n",
    "# Finally average it and compute AUC\n",
    "#mean_tpr /= n_classes\n",
    "\n",
    "#fpr[\"macro\"] = all_fpr\n",
    "#tpr[\"macro\"] = mean_tpr\n",
    "#roc_auc[\"macro\"] = auc(fpr[\"macro\"], tpr[\"macro\"])\n",
    "\n",
    "# Plot all ROC curves\n",
    "plt.figure()\n",
    "plt.plot(fpr[\"micro\"], tpr[\"micro\"],\n",
    "         label='micro-average ROC curve (area = {0:0.2f})'\n",
    "               ''.format(roc_auc[\"micro\"]),\n",
    "         color='deeppink', linestyle=':', linewidth=4)\n",
    "\n",
    "#plt.plot(fpr[\"macro\"], tpr[\"macro\"],\n",
    "#         label='macro-average ROC curve (area = {0:0.2f})'\n",
    "#               ''.format(roc_auc[\"macro\"]),\n",
    "#         color='navy', linestyle=':', linewidth=4)\n",
    "\n",
    "colors = cycle(['aqua', 'darkorange', 'cornflowerblue'])\n",
    "for i, color in zip(range(n_classes), colors):   # <--- Change the number of class to map to an eye color\n",
    "    plt.plot(fpr[i], tpr[i], color=color, lw=lw,\n",
    "             label='ROC curve of class {0} (area = {1:0.2f})'\n",
    "             ''.format(i, roc_auc[i]))\n",
    "\n",
    "plt.plot([0, 1], [0, 1], 'k--', lw=lw)\n",
    "plt.xlim([0.0, 1.0])\n",
    "plt.ylim([0.0, 1.05])\n",
    "plt.xlabel('False Positive Rate')\n",
    "plt.ylabel('True Positive Rate')\n",
    "plt.title('Some extension of Receiver operating characteristic to multi-class')\n",
    "plt.legend(loc=\"lower right\")\n",
    "plt.show()\n"
   ]
  },
  {
   "cell_type": "code",
   "execution_count": null,
   "metadata": {},
   "outputs": [],
   "source": []
  }
 ],
 "metadata": {
  "kernelspec": {
   "display_name": "Python 3",
   "language": "python",
   "name": "python3"
  },
  "language_info": {
   "codemirror_mode": {
    "name": "ipython",
    "version": 3
   },
   "file_extension": ".py",
   "mimetype": "text/x-python",
   "name": "python",
   "nbconvert_exporter": "python",
   "pygments_lexer": "ipython3",
   "version": "3.6.7"
  }
 },
 "nbformat": 4,
 "nbformat_minor": 4
}
