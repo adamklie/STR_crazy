{
 "cells": [
  {
   "cell_type": "markdown",
   "metadata": {},
   "source": [
    "# Perform sanity checks on datasets and complete final preprocessing steps\n",
    "Adam Klie<br>\n",
    "06/05/2020"
   ]
  },
  {
   "cell_type": "code",
   "execution_count": 1,
   "metadata": {},
   "outputs": [],
   "source": [
    "import pandas as pd\n",
    "import numpy as np\n",
    "import os\n",
    "from scipy.stats import zscore\n",
    "from sklearn.model_selection import train_test_split\n",
    "from tqdm.notebook import tqdm_notebook\n",
    "tqdm_notebook.pandas()"
   ]
  },
  {
   "cell_type": "markdown",
   "metadata": {},
   "source": [
    "## Get means and standard deviations of each SNP in training set to apply to test set"
   ]
  },
  {
   "cell_type": "code",
   "execution_count": 5,
   "metadata": {},
   "outputs": [],
   "source": [
    "working_df = pd.read_csv('oneKGenomes/data/oneK_genotypes.tsv', sep='\\t').drop_duplicates(\"ID\").set_index(\"ID\").loc[:, \"HG00096\":\"NA21144\"] "
   ]
  },
  {
   "cell_type": "code",
   "execution_count": 6,
   "metadata": {},
   "outputs": [],
   "source": [
    "z_df = pd.DataFrame(index=working_df.index, data={'means':working_df.mean(axis=1).values, 'std':working_df.std(axis=1).values})"
   ]
  },
  {
   "cell_type": "code",
   "execution_count": 8,
   "metadata": {},
   "outputs": [],
   "source": [
    "z_df.to_csv('oneKGenomes/data/train_set_stats.tsv', sep='\\t')"
   ]
  },
  {
   "cell_type": "code",
   "execution_count": 9,
   "metadata": {},
   "outputs": [],
   "source": [
    "del working_df, z_df"
   ]
  },
  {
   "cell_type": "markdown",
   "metadata": {},
   "source": [
    "## Check for same SNP set and individuals in train, val and test"
   ]
  },
  {
   "cell_type": "code",
   "execution_count": null,
   "metadata": {},
   "outputs": [],
   "source": [
    "train = pd.read_pickle('oneKGenomes/data/train_set.pickle')"
   ]
  },
  {
   "cell_type": "code",
   "execution_count": null,
   "metadata": {},
   "outputs": [],
   "source": [
    "val = pd.read_pickle('oneKGenomes/data/val_set.pickle')"
   ]
  },
  {
   "cell_type": "code",
   "execution_count": null,
   "metadata": {},
   "outputs": [],
   "source": [
    "test = pd.read_pickle('openSNP/data/test_set.pickle')"
   ]
  },
  {
   "cell_type": "code",
   "execution_count": null,
   "metadata": {},
   "outputs": [],
   "source": [
    "# Make sure IDs don't intersect\n",
    "set(train.index).intersection(val.index)"
   ]
  },
  {
   "cell_type": "code",
   "execution_count": null,
   "metadata": {},
   "outputs": [],
   "source": [
    "# Make sure the ordering of SNPs is correct\n",
    "print((train.columns != val.columns).sum())\n",
    "print((test.columns != val.columns).sum())"
   ]
  },
  {
   "cell_type": "code",
   "execution_count": null,
   "metadata": {},
   "outputs": [],
   "source": [
    "del train, val, test"
   ]
  },
  {
   "cell_type": "markdown",
   "metadata": {},
   "source": [
    "## Sanity check z-scores make sense"
   ]
  },
  {
   "cell_type": "code",
   "execution_count": null,
   "metadata": {},
   "outputs": [],
   "source": [
    "# Sanity check genotypes to z-score conversions\n",
    "train = pd.read_pickle('oneKGenomes/data/train_set.pickle')\n",
    "genotypes =  pd.read_pickle('oneKGenomes/data/oneK_genotypes.pickle')\n",
    "z_df = pd.read_csv('oneKGenomes/data/train_set_stats.tsv', sep='\\t')"
   ]
  },
  {
   "cell_type": "code",
   "execution_count": null,
   "metadata": {},
   "outputs": [],
   "source": [
    "gt_index = genotypes.set_index(\"ID\")\n",
    "del genotypes"
   ]
  },
  {
   "cell_type": "code",
   "execution_count": null,
   "metadata": {},
   "outputs": [],
   "source": [
    "# Check this against screenshot\n",
    "gt_index.head()"
   ]
  },
  {
   "cell_type": "code",
   "execution_count": null,
   "metadata": {},
   "outputs": [],
   "source": [
    "gt = gt_index[\"HG02330\"].loc[\"rs7917054\"]"
   ]
  },
  {
   "cell_type": "code",
   "execution_count": null,
   "metadata": {},
   "outputs": [],
   "source": [
    "stats = z_df.set_index(\"ID\").loc[\"rs7917054\"]\n",
    "m = stats.loc[\"means\"]\n",
    "sd = stats.loc[\"std\"]"
   ]
  },
  {
   "cell_type": "code",
   "execution_count": null,
   "metadata": {},
   "outputs": [],
   "source": [
    "round(train.loc[\"HG02330\", \"rs7917054\"], 5) == round((gt-m)/sd, 5)"
   ]
  },
  {
   "cell_type": "code",
   "execution_count": null,
   "metadata": {},
   "outputs": [],
   "source": [
    "del train, gt_index"
   ]
  },
  {
   "cell_type": "code",
   "execution_count": null,
   "metadata": {},
   "outputs": [],
   "source": [
    "test = pd.read_pickle('openSNP/data/test_set.pickle')\n",
    "genotypes = pd.read_pickle('openSNP/data/openSNP_final_genotypes.pickle')\n",
    "z_df = pd.read_csv('oneKGenomes/data/train_set_stats.tsv', sep='\\t')\n",
    "ref_alleles = pd.read_csv('oneKGenomes/data/oneK_rsids.tsv', sep='\\t')"
   ]
  },
  {
   "cell_type": "code",
   "execution_count": null,
   "metadata": {},
   "outputs": [],
   "source": [
    "gt_index = genotypes.set_index(\"rsid\")\n",
    "del genotypes"
   ]
  },
  {
   "cell_type": "code",
   "execution_count": null,
   "metadata": {},
   "outputs": [],
   "source": [
    "gt_index.head()"
   ]
  },
  {
   "cell_type": "code",
   "execution_count": null,
   "metadata": {},
   "outputs": [],
   "source": [
    "ref_alleles = ref_alleles.set_index(\"ID\")"
   ]
  },
  {
   "cell_type": "code",
   "execution_count": null,
   "metadata": {},
   "outputs": [],
   "source": [
    "ref_alleles.loc[\"rs7537756\"]"
   ]
  },
  {
   "cell_type": "code",
   "execution_count": null,
   "metadata": {},
   "outputs": [],
   "source": [
    "z_df = z_df.set_index(\"ID\")"
   ]
  },
  {
   "cell_type": "code",
   "execution_count": null,
   "metadata": {},
   "outputs": [],
   "source": [
    "test_ids = random.sample(set(test.index), 10)\n",
    "rsid = \"rs3131972\"\n",
    "print(\"Test set value\", \"Genotype z-score\")\n",
    "for id in test_ids:\n",
    "    stats = z_df.loc[rsid]\n",
    "    m = stats.loc[\"means\"]\n",
    "    sd = stats.loc[\"std\"]\n",
    "    gt = gt_index[id].loc[rsid]\n",
    "    z_gt = test.loc[id, rsid]\n",
    "    print(round(z_gt, 5), round((gt-m)/sd, 5))\n",
    "    print(\"Same?\", round(z_gt, 5) == round((gt-m)/sd, 5))"
   ]
  },
  {
   "cell_type": "code",
   "execution_count": null,
   "metadata": {},
   "outputs": [],
   "source": [
    "avg_na = gt_index.isna().apply(sum).mean()"
   ]
  },
  {
   "cell_type": "code",
   "execution_count": null,
   "metadata": {},
   "outputs": [],
   "source": [
    "avg_na/test.shape[1]"
   ]
  },
  {
   "cell_type": "code",
   "execution_count": null,
   "metadata": {},
   "outputs": [],
   "source": [
    "del test, gt_index, ref_alleles, z_df, test_ids, avg_na"
   ]
  },
  {
   "cell_type": "markdown",
   "metadata": {},
   "source": [
    "# Check phenotype labels"
   ]
  },
  {
   "cell_type": "code",
   "execution_count": null,
   "metadata": {},
   "outputs": [],
   "source": [
    "test_labels = pd.read_csv('openSNP/data/test_labels.csv', index_col=0)"
   ]
  },
  {
   "cell_type": "code",
   "execution_count": null,
   "metadata": {},
   "outputs": [],
   "source": [
    "test_phenotypes = pd.read_csv('openSNP/data/openSNP_initial_phenotypes.tsv', sep='\\t')"
   ]
  },
  {
   "cell_type": "code",
   "execution_count": null,
   "metadata": {},
   "outputs": [],
   "source": [
    "test_phenotypes = test_phenotypes.set_index('user_id')"
   ]
  },
  {
   "cell_type": "code",
   "execution_count": null,
   "metadata": {},
   "outputs": [],
   "source": [
    "test_phenotypes.merge(test_labels, left_index=True, right_index=True)"
   ]
  },
  {
   "cell_type": "code",
   "execution_count": null,
   "metadata": {},
   "outputs": [],
   "source": [
    "del test_labels, test_phenotypes"
   ]
  },
  {
   "cell_type": "markdown",
   "metadata": {},
   "source": [
    "## Generate pickles from csv for each dataset"
   ]
  },
  {
   "cell_type": "code",
   "execution_count": null,
   "metadata": {},
   "outputs": [],
   "source": [
    "train = pd.read_pickle('oneKGenomes/data/train_set.pickle')"
   ]
  },
  {
   "cell_type": "code",
   "execution_count": null,
   "metadata": {},
   "outputs": [],
   "source": [
    "val = pd.read_pickle('oneKGenomes/data/val_set.pickle')"
   ]
  },
  {
   "cell_type": "code",
   "execution_count": 6,
   "metadata": {},
   "outputs": [],
   "source": [
    "test = pd.read_pickle('openSNP/data/test_set.pickle')"
   ]
  },
  {
   "cell_type": "code",
   "execution_count": null,
   "metadata": {},
   "outputs": [],
   "source": [
    "with open('iris_rsids.txt') as f:\n",
    "    iris_ids = [id.rstrip() for id in f.readlines()]"
   ]
  },
  {
   "cell_type": "code",
   "execution_count": null,
   "metadata": {},
   "outputs": [],
   "source": [
    "train[iris_ids].to_pickle('oneKGenomes/data/iris_train.pickle')\n",
    "val[iris_ids].to_pickle('oneKGenomes/data/iris_val.pickle')\n",
    "test[iris_ids].to_pickle('openSNP/data/iris_test.pickle')"
   ]
  },
  {
   "cell_type": "code",
   "execution_count": null,
   "metadata": {},
   "outputs": [],
   "source": [
    "del train, val, test"
   ]
  },
  {
   "cell_type": "markdown",
   "metadata": {},
   "source": [
    "## Run linear correlation analysis P-values"
   ]
  },
  {
   "cell_type": "code",
   "execution_count": null,
   "metadata": {},
   "outputs": [],
   "source": [
    "%%bash\n",
    "DATA_DIR=~/project/datasets/oneKGenomes/data\n",
    "#vcftools --gzvcf ${DATA_DIR}/oneK_genotypes.vcf.gz --plink --out oneK \n",
    "plink --file oneK --allow-no-sex --make-bed --out oneK"
   ]
  },
  {
   "cell_type": "code",
   "execution_count": null,
   "metadata": {},
   "outputs": [],
   "source": [
    "# Create phenotypes\n",
    "train_labels = pd.read_csv('oneKGenomes/data/train_labels.csv')\n",
    "val_labels = pd.read_csv('oneKGenomes/data/val_labels.csv')\n",
    "all_labels = pd.concat([train_labels, val_labels])"
   ]
  },
  {
   "cell_type": "code",
   "execution_count": null,
   "metadata": {},
   "outputs": [],
   "source": [
    "len(set(all_labels[\"user_id\"].values))"
   ]
  },
  {
   "cell_type": "code",
   "execution_count": null,
   "metadata": {},
   "outputs": [],
   "source": [
    "all_labels.head()"
   ]
  },
  {
   "cell_type": "code",
   "execution_count": null,
   "metadata": {},
   "outputs": [],
   "source": [
    "from scipy.stats import zscore\n",
    "all_labels[\"phen\"] = zscore(all_labels[\"label\"].values)"
   ]
  },
  {
   "cell_type": "code",
   "execution_count": null,
   "metadata": {},
   "outputs": [],
   "source": [
    "all_labels[\"sample\"] = all_labels[\"user_id\"]"
   ]
  },
  {
   "cell_type": "code",
   "execution_count": null,
   "metadata": {},
   "outputs": [],
   "source": [
    "all_labels[\"fam\"] = all_labels[\"user_id\"]"
   ]
  },
  {
   "cell_type": "code",
   "execution_count": null,
   "metadata": {},
   "outputs": [],
   "source": [
    "all_labels[[\"sample\", \"fam\", \"phen\"]].to_csv('oneK.phen', sep=' ', index=False)"
   ]
  },
  {
   "cell_type": "code",
   "execution_count": null,
   "metadata": {},
   "outputs": [],
   "source": [
    "%%bash\n",
    "\n",
    "# Code to run GWAS using plink\n",
    "# Set up directories\n",
    "DATADIR=~/project/datasets\n",
    "PREFIX=${DATADIR}/oneK # use for plink --bfile\n",
    "USERPREFIX=${DATADIR}/oneK_gwas # use for plink --out\n",
    "\n",
    "# GWAS\n",
    "plink --bfile $PREFIX --linear --out $USERPREFIX --pheno ${PREFIX}.phen --allow-no-sex\n",
    "\n",
    "# Change to more useable output format\n",
    "cat ${USERPREFIX}.assoc.linear | sed -r 's/^\\s+//g' | sed -r 's/\\s+/\\t/g' > ${USERPREFIX}.assoc.linear.tab\n",
    "\n",
    "plink --bfile $PREFIX --clump ${USERPREFIX}.assoc.linear  --out $USERPREFIX --clump-field P"
   ]
  },
  {
   "cell_type": "code",
   "execution_count": null,
   "metadata": {},
   "outputs": [],
   "source": [
    "!tail -n +2 /home/aklie/project/datasets/oneK_gwas.clumped | sed '/^$/d' | wc -l"
   ]
  },
  {
   "cell_type": "markdown",
   "metadata": {},
   "source": [
    "# Generate some new datasets using p-values"
   ]
  },
  {
   "cell_type": "code",
   "execution_count": 2,
   "metadata": {},
   "outputs": [],
   "source": [
    "train = pd.read_pickle('oneKGenomes/data/train_set.pickle')"
   ]
  },
  {
   "cell_type": "code",
   "execution_count": 3,
   "metadata": {},
   "outputs": [],
   "source": [
    "val = pd.read_pickle('oneKGenomes/data/val_set.pickle')"
   ]
  },
  {
   "cell_type": "code",
   "execution_count": 4,
   "metadata": {},
   "outputs": [],
   "source": [
    "test = pd.read_pickle('openSNP/data/test_set.pickle')"
   ]
  },
  {
   "cell_type": "code",
   "execution_count": 5,
   "metadata": {},
   "outputs": [],
   "source": [
    "gwas_out = pd.read_csv('oneK_gwas.assoc.linear.tab', '\\t')"
   ]
  },
  {
   "cell_type": "code",
   "execution_count": 6,
   "metadata": {},
   "outputs": [
    {
     "name": "stdout",
     "output_type": "stream",
     "text": [
      "Saving  1000\n",
      "Saving  10000\n",
      "Saving  50000\n",
      "Saving  100000\n"
     ]
    }
   ],
   "source": [
    "for i in [1000, 10000, 50000, 100000]:\n",
    "    print(\"Saving \", i)\n",
    "    curr_rsids = gwas_out.sort_values('P')[\"SNP\"].values[:i]\n",
    "    train[curr_rsids].to_pickle('oneKGenomes/data/{}_train_set.pickle'.format(i))\n",
    "    val[curr_rsids].to_pickle('oneKGenomes/data/{}_val_set.pickle'.format(i))\n",
    "    test[curr_rsids].to_pickle('openSNP/data/{}_test_set.pickle'.format(i))"
   ]
  },
  {
   "cell_type": "code",
   "execution_count": 10,
   "metadata": {},
   "outputs": [],
   "source": [
    "del gwas_out, train, val, test"
   ]
  },
  {
   "cell_type": "code",
   "execution_count": 10,
   "metadata": {},
   "outputs": [],
   "source": [
    "#pd.read_pickle('openSNP/data/100000_test_set.pickle')"
   ]
  },
  {
   "cell_type": "code",
   "execution_count": 11,
   "metadata": {},
   "outputs": [],
   "source": [
    "#whos"
   ]
  },
  {
   "cell_type": "markdown",
   "metadata": {},
   "source": [
    "## Process IrisPlex on openSNP for ROC curves"
   ]
  },
  {
   "cell_type": "code",
   "execution_count": 3,
   "metadata": {},
   "outputs": [],
   "source": [
    "pred = pd.read_csv('openSNP/data/openSNP_iris_prediction.tsv', sep='\\t')"
   ]
  },
  {
   "cell_type": "code",
   "execution_count": null,
   "metadata": {},
   "outputs": [],
   "source": [
    "pred_id = pred.set_index(\"user_id\")"
   ]
  },
  {
   "cell_type": "code",
   "execution_count": null,
   "metadata": {},
   "outputs": [],
   "source": [
    "pred_cols = pred_id[[\"index\", \"brown\", \"blue\", \"other\", \"predicted_eye_color\", \"eye_color\"]]"
   ]
  },
  {
   "cell_type": "code",
   "execution_count": null,
   "metadata": {},
   "outputs": [],
   "source": [
    "pred_cols"
   ]
  },
  {
   "cell_type": "code",
   "execution_count": null,
   "metadata": {},
   "outputs": [],
   "source": [
    "labels = {'brown':0, 'blue':1, 'other':2} \n",
    "labels2 = {'brown':0, 'blue':1, 'green':2} \n",
    "  \n",
    "# Remap the values of the dataframe \n",
    "final_preds = pred_cols.replace({\"predicted_eye_color\": labels, \"eye_color\":labels2}) "
   ]
  },
  {
   "cell_type": "code",
   "execution_count": null,
   "metadata": {},
   "outputs": [],
   "source": [
    "final_preds.to_csv('openSNP/data/openSNP_final_iris_preds.tsv', sep='\\t', index=False)"
   ]
  },
  {
   "cell_type": "code",
   "execution_count": 12,
   "metadata": {},
   "outputs": [],
   "source": [
    "pd.read_csv('openSNP/data/test_labels.csv')[\"label\"].value_counts()"
   ]
  }
 ],
 "metadata": {
  "kernelspec": {
   "display_name": "Python 3",
   "language": "python",
   "name": "python3"
  },
  "language_info": {
   "codemirror_mode": {
    "name": "ipython",
    "version": 3
   },
   "file_extension": ".py",
   "mimetype": "text/x-python",
   "name": "python",
   "nbconvert_exporter": "python",
   "pygments_lexer": "ipython3",
   "version": "3.6.7"
  }
 },
 "nbformat": 4,
 "nbformat_minor": 4
}
