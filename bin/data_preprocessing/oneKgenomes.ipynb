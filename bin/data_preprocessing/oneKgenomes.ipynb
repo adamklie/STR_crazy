{
 "cells": [
  {
   "cell_type": "markdown",
   "metadata": {},
   "source": [
    "# oneK Genomes Analysis\n",
    "#### Adam Klie<br>05/20/2020<br>CSE284 Project\n",
    "Notebook to look at genotypes and phenotypes in 1000Genomes"
   ]
  },
  {
   "cell_type": "code",
   "execution_count": 2,
   "metadata": {},
   "outputs": [],
   "source": [
    "import pandas as pd\n",
    "import numpy as np\n",
    "import os\n",
    "from scipy.stats import zscore\n",
    "from sklearn.model_selection import train_test_split"
   ]
  },
  {
   "cell_type": "markdown",
   "metadata": {},
   "source": [
    "## Phenotypes\n",
    "Run oneK_phenotypes.sh to generate tab deliminated genotype information for prediction"
   ]
  },
  {
   "cell_type": "code",
   "execution_count": null,
   "metadata": {},
   "outputs": [],
   "source": [
    "# Functions for model probability calculations\n",
    "def p_blue(m1_sum, m2_sum):\n",
    "    return np.exp(m1_sum)/(1+np.exp(m1_sum)+np.exp(m2_sum))\n",
    "\n",
    "def p_other(m1_sum, m2_sum):\n",
    "    return np.exp(m2_sum)/(1+np.exp(m1_sum)+np.exp(m2_sum))\n",
    "    \n",
    "# Load irisplex parameters for each SNP, sort on ID\n",
    "IRISPLEX = os.path.join(os.environ[\"HOME\"], \"project/datasets\", \"irisplex.bed\" )\n",
    "iris_header = [\"chr\", \"pos1\", \"pos2\", \"id\", \"minor_allele\", \"b1\", \"b2\"]\n",
    "iris = pd.read_csv(IRISPLEX, sep='\\t', header=None, names=iris_header).set_index(\"id\").sort_index()\n",
    "\n",
    "# Load the genotypes of individuals at each SNP, sort on ID and reconfigure genotypes for 3 alleles (NEED TO CHECK THIS FOR NEW DATA)\n",
    "GENOTYPE = os.path.join(os.environ[\"HOME\"], \"project/datasets/oneKGenomes\", \"iris_oneK_genotypes.tab\")\n",
    "gt = pd.read_csv(GENOTYPE, sep='\\t').set_index(\"ID\").sort_index()\n",
    "gt = gt.loc[:, \"HG00096\":\"NA21144\"].apply(lambda x: 2-x if x.name in ['rs12896399', 'rs12913832', 'rs16891982'] else x, axis=1)\n",
    "\n",
    "# Perform predictions for each individual based on genotype and parameters\n",
    "a1 = 3.94\n",
    "a2 = 0.65\n",
    "\n",
    "predictions = {}\n",
    "for col in gt.columns:\n",
    "    if (\"HG\" in col) or (\"NA\" in col):\n",
    "        pred1 = np.dot(gt[col], iris[\"b1\"]) + a1\n",
    "        pred2 = np.dot(gt[col], iris[\"b2\"]) + a2\n",
    "        blue = p_blue(pred1, pred2)\n",
    "        other = p_other(pred1, pred2)\n",
    "        brown = 1 - blue - other\n",
    "        predictions[col] = [pred1, pred2, blue, other, brown]\n",
    "\n",
    "predict = pd.DataFrame.from_dict(predictions, orient='index', columns=[\"pred1\", \"pred2\", \"blue\", \n",
    "                                                                       \"other\", \"brown\"])"
   ]
  },
  {
   "cell_type": "code",
   "execution_count": null,
   "metadata": {},
   "outputs": [],
   "source": [
    "def get_color_pred(x):\n",
    "    if x[\"blue\"] >= x[\"brown\"] and x[\"blue\"] >= x[\"other\"]:\n",
    "        return \"blue\"\n",
    "    elif x[\"brown\"] >= x[\"other\"]:\n",
    "        return \"brown\"\n",
    "    else:\n",
    "        return \"other\""
   ]
  },
  {
   "cell_type": "code",
   "execution_count": null,
   "metadata": {},
   "outputs": [],
   "source": [
    "predict[\"predicted_eye_color\"] = predict.apply(get_color_pred, 1)"
   ]
  },
  {
   "cell_type": "code",
   "execution_count": null,
   "metadata": {},
   "outputs": [],
   "source": [
    "print(predict[\"predicted_eye_color\"].value_counts())\n",
    "print(predict[\"predicted_eye_color\"].value_counts().sum())"
   ]
  },
  {
   "cell_type": "code",
   "execution_count": null,
   "metadata": {},
   "outputs": [],
   "source": [
    "# Check to see if matches homework\n",
    "color = predict[[\"blue\", \"other\", \"brown\"]]\n",
    "for ind in [\"NA12249\", \"NA20509\", \"NA12750\"]:\n",
    "    color_pred = color.loc[ind].idxmax(axis=1)\n",
    "    print(ind, color_pred)\n",
    "    \n",
    "print(predict.loc[\"NA12249\"])\n",
    "print(predict.loc[\"NA20509\"])\n",
    "print(predict.loc[\"NA12750\"])"
   ]
  },
  {
   "cell_type": "code",
   "execution_count": null,
   "metadata": {},
   "outputs": [],
   "source": [
    "# Use numeric labels for phenotypes\n",
    "label_mapping = {\"brown\":0, \"blue\":1, \"other\":2}\n",
    "def get_label(x):\n",
    "    return label_mapping[x[\"predicted_eye_color\"]]\n",
    "predict[\"label\"] = predict.apply(get_label, 1)"
   ]
  },
  {
   "cell_type": "code",
   "execution_count": null,
   "metadata": {},
   "outputs": [],
   "source": [
    "labels = predict[\"label\"]\n",
    "labels.head()"
   ]
  },
  {
   "cell_type": "code",
   "execution_count": null,
   "metadata": {},
   "outputs": [],
   "source": [
    "label_counts = labels.value_counts()\n",
    "print(label_counts)\n",
    "label_counts/label_counts.sum()"
   ]
  },
  {
   "cell_type": "code",
   "execution_count": null,
   "metadata": {},
   "outputs": [],
   "source": [
    "train_labels, val_labels = train_test_split(labels, test_size=0.2, stratify=labels.values)"
   ]
  },
  {
   "cell_type": "code",
   "execution_count": null,
   "metadata": {},
   "outputs": [],
   "source": [
    "train_counts = train_labels.value_counts()\n",
    "print(train_counts)\n",
    "train_counts/train_counts.sum()"
   ]
  },
  {
   "cell_type": "code",
   "execution_count": null,
   "metadata": {},
   "outputs": [],
   "source": [
    "val_counts = val_labels.value_counts()\n",
    "print(val_counts)\n",
    "val_counts/val_counts.sum()"
   ]
  },
  {
   "cell_type": "code",
   "execution_count": null,
   "metadata": {},
   "outputs": [],
   "source": [
    "# Training and val split for labels\n",
    "train_ids = train_labels.index\n",
    "val_ids = val_labels.index"
   ]
  },
  {
   "cell_type": "code",
   "execution_count": null,
   "metadata": {},
   "outputs": [],
   "source": [
    "# Save to files\n",
    "train_labels.to_csv('train_labels.csv', index=True)\n",
    "val_labels.to_csv('val_labels.csv', index=True)"
   ]
  },
  {
   "cell_type": "markdown",
   "metadata": {},
   "source": [
    "## Extracting genotypes frmom 1000Genomes vcf files and filtered SNP list from openSNP\n",
    "Using openSNP_filtered_rsids.list as input, run oneK_genotypes.sh to generate oneK_genotypes.tab\n",
    "Also get train and val split from phenotypes (train_ids, val_ids)"
   ]
  },
  {
   "cell_type": "code",
   "execution_count": 3,
   "metadata": {},
   "outputs": [],
   "source": [
    "# Load in genotypes from oneK_genotypes.sh output\n",
    "oneK_genotypes = pd.read_csv('oneK_genotypes.tab', sep='\\t')"
   ]
  },
  {
   "cell_type": "code",
   "execution_count": null,
   "metadata": {},
   "outputs": [],
   "source": [
    "# Save the final list of rsids, with reference allele for openSNP\n",
    "oneK_genotypes[[\"ID\", \"REF\"]].to_csv('oneK_rsids.tab', sep='\\t', index=False)"
   ]
  },
  {
   "cell_type": "code",
   "execution_count": null,
   "metadata": {},
   "outputs": [],
   "source": [
    "data = oneK_genotypes.set_index(\"ID\").loc[:, \"HG00096\":\"NA21144\"]"
   ]
  },
  {
   "cell_type": "code",
   "execution_count": null,
   "metadata": {},
   "outputs": [],
   "source": [
    "data_z = data.progress_apply(zscore).T"
   ]
  },
  {
   "cell_type": "code",
   "execution_count": null,
   "metadata": {},
   "outputs": [],
   "source": [
    "train = data.loc[train_ids]\n",
    "val = data.loc[val_ids]"
   ]
  },
  {
   "cell_type": "code",
   "execution_count": null,
   "metadata": {},
   "outputs": [],
   "source": [
    "print(len(train))\n",
    "print(len(val))"
   ]
  },
  {
   "cell_type": "code",
   "execution_count": null,
   "metadata": {},
   "outputs": [],
   "source": [
    "print(train.index == train_labels.index)\n",
    "print(val.index == val.index)"
   ]
  },
  {
   "cell_type": "code",
   "execution_count": null,
   "metadata": {},
   "outputs": [],
   "source": [
    "train.to_csv('train_set.csv', index=True)\n",
    "val.to_csv('val_set.csv', index=True)"
   ]
  }
 ],
 "metadata": {
  "kernelspec": {
   "display_name": "Python 3",
   "language": "python",
   "name": "python3"
  },
  "language_info": {
   "codemirror_mode": {
    "name": "ipython",
    "version": 3
   },
   "file_extension": ".py",
   "mimetype": "text/x-python",
   "name": "python",
   "nbconvert_exporter": "python",
   "pygments_lexer": "ipython3",
   "version": "3.6.7"
  }
 },
 "nbformat": 4,
 "nbformat_minor": 4
}
