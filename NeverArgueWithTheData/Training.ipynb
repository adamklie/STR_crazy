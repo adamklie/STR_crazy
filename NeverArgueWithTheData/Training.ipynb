{
 "cells": [
  {
   "cell_type": "markdown",
   "metadata": {},
   "source": [
    "## Training Notebook:\n",
    "\n",
    "Currently Handles only case of single task - can be adapted for mutlitask output by summing across losses and taking a step back in that way: See --> https://towardsdatascience.com/tuning-a-multi-task-fate-grand-order-trained-pytorch-network-152cfda2e086"
   ]
  },
  {
   "cell_type": "markdown",
   "metadata": {},
   "source": [
    "**Requirements:**\n",
    "\n",
    "1) Pytorch and all subclasses (eg., nn and F) <br>\n",
    "2) DontGetSNPpyWithMe.py in same folder as this notebook<br>\n",
    "3) EarlyStop.py in same folder as this notebook "
   ]
  },
  {
   "cell_type": "markdown",
   "metadata": {},
   "source": [
    "**Import necessary packages:**"
   ]
  },
  {
   "cell_type": "code",
   "execution_count": 45,
   "metadata": {},
   "outputs": [],
   "source": [
    "import torch \n",
    "import argparse\n",
    "import os\n",
    "import numpy as np\n",
    "from torch.utils.data import DataLoader\n",
    "from DontGetSNPpyWithMe import * #The neural net\n",
    "import torch.optim as optim\n",
    "import torch.nn.functional as F\n",
    "from EarlyStop import * #Early Stopping object\n",
    "from data_loader import *\n",
    "import matplotlib.pyplot as plt"
   ]
  },
  {
   "cell_type": "markdown",
   "metadata": {},
   "source": [
    "**Define a Validation Splitting Function (maybe handle externally by randomly sampling in a phenotype balanced way so can just read in and go here), and read in training, validation, and test (openSNP) data:**"
   ]
  },
  {
   "cell_type": "markdown",
   "metadata": {},
   "source": [
    "Define variables that can be easily changed for model instantiation later in one place:"
   ]
  },
  {
   "cell_type": "code",
   "execution_count": 46,
   "metadata": {},
   "outputs": [],
   "source": [
    "batchSize = 32\n",
    "numSNPs= 276569  # 500000\n",
    "numLayers = 5\n",
    "layerWidths = [512, 512, 256, 128, 64]\n",
    "dropout = 0.5\n",
    "multitaskOutputs = [3]\n",
    "learningRate = 5e-3\n",
    "epochs = 5\n",
    "patience = 5\n",
    "weighted = True"
   ]
  },
  {
   "cell_type": "markdown",
   "metadata": {},
   "source": [
    "do dataloader tings: --> **Edited** so Train is shuffled so no random unbalanced batches throw everything off by accident\n",
    "\n",
    "Guess test and val train don't matter if shuffled since just eval-ing it"
   ]
  },
  {
   "cell_type": "code",
   "execution_count": 47,
   "metadata": {},
   "outputs": [],
   "source": [
    "train_loader = get_loader(genotype_file=\"../Sheen/train_set.pickle\",\n",
    "                          phenotype_file=\"../Sheen/train_labels.csv\",\n",
    "                          batch_size=batchSize,\n",
    "                          shuffle=True,\n",
    "                          num_workers=4,\n",
    "                          pickle=True)\n",
    "val_loader = get_loader(genotype_file=\"../Sheen/val_set.pickle\",\n",
    "                          phenotype_file=\"../Sheen/val_labels.csv\",\n",
    "                          batch_size=batchSize,\n",
    "                          shuffle=False,\n",
    "                          num_workers=4,\n",
    "                          pickle=True)\n",
    "test_loader = get_loader(genotype_file=\"../Sheen/test_set.pickle\",\n",
    "                          phenotype_file=\"../Sheen/test_labels.csv\",\n",
    "                          batch_size=batchSize,\n",
    "                          shuffle=False,\n",
    "                          num_workers=4,\n",
    "                          pickle=True)"
   ]
  },
  {
   "cell_type": "code",
   "execution_count": 48,
   "metadata": {},
   "outputs": [],
   "source": [
    "#len(test_loader.dataset[0][0])"
   ]
  },
  {
   "cell_type": "code",
   "execution_count": 49,
   "metadata": {},
   "outputs": [
    {
     "name": "stdout",
     "output_type": "stream",
     "text": [
      "Dimensions of training set: 276569 x 2002\n",
      "Dimensions of validation set: 276569 x 500\n",
      "Dimensions of test set: 276569 x 589\n"
     ]
    }
   ],
   "source": [
    "print(\"Dimensions of training set: {} x {}\".format(len(train_loader.dataset[0][0]), len(train_loader.dataset)))\n",
    "print(\"Dimensions of validation set: {} x {}\".format(len(val_loader.dataset[0][0]), len(val_loader.dataset)))\n",
    "print(\"Dimensions of test set: {} x {}\".format(len(test_loader.dataset[0][0]), len(test_loader.dataset)))"
   ]
  },
  {
   "cell_type": "markdown",
   "metadata": {},
   "source": [
    "Instantiate the model, loss function, and optimizer using the above parameters:"
   ]
  },
  {
   "cell_type": "code",
   "execution_count": 50,
   "metadata": {},
   "outputs": [],
   "source": [
    "soHeavy = [1/1784, 1/214 , 1/5]  # 1/class_size for now"
   ]
  },
  {
   "cell_type": "code",
   "execution_count": 51,
   "metadata": {},
   "outputs": [
    {
     "name": "stdout",
     "output_type": "stream",
     "text": [
      "\n",
      "\n",
      "A ba ba boua ba ba: Layers are initializing...\n",
      "Adding linear layer from 276569 nodes to 512 nodes...\n",
      "[Linear(in_features=276569, out_features=512, bias=True), BatchNorm1d(512, eps=1e-05, momentum=0.1, affine=True, track_running_stats=True), Dropout(p=0.5, inplace=False), ReLU(inplace=True)]\n",
      "Initializing Weights...\n",
      "Adding linear layer from 512 nodes to 512 nodes...\n",
      "[Linear(in_features=512, out_features=512, bias=True), BatchNorm1d(512, eps=1e-05, momentum=0.1, affine=True, track_running_stats=True), Dropout(p=0.5, inplace=False), ReLU(inplace=True)]\n",
      "Initializing Weights...\n",
      "Adding linear layer from 512 nodes to 256 nodes...\n",
      "[Linear(in_features=512, out_features=256, bias=True), BatchNorm1d(256, eps=1e-05, momentum=0.1, affine=True, track_running_stats=True), Dropout(p=0.5, inplace=False), ReLU(inplace=True)]\n",
      "Initializing Weights...\n",
      "Adding linear layer from 256 nodes to 128 nodes...\n",
      "[Linear(in_features=256, out_features=128, bias=True), BatchNorm1d(128, eps=1e-05, momentum=0.1, affine=True, track_running_stats=True), Dropout(p=0.5, inplace=False), ReLU(inplace=True)]\n",
      "Initializing Weights...\n",
      "Adding linear layer from 128 nodes to 64 nodes...\n",
      "[Linear(in_features=128, out_features=64, bias=True), BatchNorm1d(64, eps=1e-05, momentum=0.1, affine=True, track_running_stats=True), Dropout(p=0.5, inplace=False), ReLU(inplace=True)]\n",
      "Initializing Weights...\n",
      "The angry aztec sends his llama regards: Multi-task layers initializing...\n",
      "Adding multi-task linear layer from 64 nodes to 3 nodes\n",
      "Initializing Weights...\n"
     ]
    }
   ],
   "source": [
    "derekZoolander = DiddyKongRacing([batchSize,numSNPs], numLayers, layerWidths, dropout, multitaskOutputs)\n",
    "optimizer = optim.Adam(derekZoolander.parameters(), lr=learningRate) # can add in regularization w/ wd as well later: weight_decay=1e-4) "
   ]
  },
  {
   "cell_type": "markdown",
   "metadata": {},
   "source": [
    "Move the model to gpu if available:"
   ]
  },
  {
   "cell_type": "code",
   "execution_count": 52,
   "metadata": {},
   "outputs": [
    {
     "name": "stdout",
     "output_type": "stream",
     "text": [
      "cuda\n",
      "Using Weighted Cross Entropy as Loss f(x)\n"
     ]
    }
   ],
   "source": [
    "pleaseBeGpu = torch.device('cuda' if torch.cuda.is_available() else 'cpu')\n",
    "print(pleaseBeGpu)\n",
    "derekZoolander = derekZoolander.to(pleaseBeGpu)\n",
    "torchMe = torch.FloatTensor(soHeavy).to(pleaseBeGpu)\n",
    "if weighted:\n",
    "    criterion = nn.CrossEntropyLoss(weight=torchMe)  # Implement weighted loss\n",
    "    print(\"Using Weighted Cross Entropy as Loss f(x)\")\n",
    "else: \n",
    "    criterion = nn.CrossEntropyLoss()\n",
    "    print(\"Using unweighted Cross Entropy as Loss f(x)\")"
   ]
  },
  {
   "cell_type": "markdown",
   "metadata": {},
   "source": [
    "Define a Function to calc accuracy on a batch since the model returns raw outputs and not softmax!:"
   ]
  },
  {
   "cell_type": "code",
   "execution_count": 53,
   "metadata": {},
   "outputs": [],
   "source": [
    "#input of 2 tensors --> make sure labels is a tensor of size == batch size\n",
    "#output: Total number of matches (accuracy can be returned by removing the comment # below); \n",
    "# this was done to get accuracy on an epoch basis where can be weighted by total number of samples as opposed to a per batch basis\n",
    "def AccuracyCalc(raw, labels): \n",
    "    payMeForMyPredictions = torch.argmax(F.softmax(raw, dim = 1), dim = 1)\n",
    "    return sum(payMeForMyPredictions.eq(labels)).item() #/len(lables)"
   ]
  },
  {
   "cell_type": "markdown",
   "metadata": {},
   "source": [
    "Define a validation (and Test) function (also base case of evaluation for epoch 0): \n",
    "\n",
    "Can mute print statements later when running everything especially with test set and when plotting is integrated but for now they are there to ensure things intuitively are working and can get a sense model is improving in real time."
   ]
  },
  {
   "cell_type": "code",
   "execution_count": 54,
   "metadata": {},
   "outputs": [],
   "source": [
    "#inputs: 1) model (derekZoolander) 2) current epoch number 3) validation dataloader 4) Loss function 5) device\n",
    "#outputs: 1) accuracy 2) loss\n",
    "\n",
    "def Validate(model, epochNum, data = val_loader, lossFn = criterion, device = pleaseBeGpu):\n",
    "    model.eval() #shut off batch norm and dropout\n",
    "    # numBatches = 0 in case want to know how many batches iterating through\n",
    "    totalSamples = 0\n",
    "    totalLoss = 0\n",
    "    numerator = 0\n",
    "    for i, (snpBatch, phenotypeBatch) in enumerate(data):            \n",
    "        totalSamples += len(phenotypeBatch) #running total of number of samples\n",
    "\n",
    "        #move labels to gpu (hopefully)\n",
    "        snpBatch = snpBatch.to(device)\n",
    "        phenotypeBatch = phenotypeBatch.to(device)\n",
    "\n",
    "        #Run it:\n",
    "        output = model(snpBatch)\n",
    "        loss = lossFn(output[0], phenotypeBatch.squeeze(1)) #recall output returns a list to handle multi-task learning so here the prediction is output[0]\n",
    "\n",
    "        #Calculate accuracy:\n",
    "        numerator += AccuracyCalc(output[0], phenotypeBatch.squeeze(1))\n",
    "        totalLoss += loss.item()\n",
    "        \n",
    "    epochAcc = numerator/(totalSamples)\n",
    "    print(\"Validation accuracy at epoch {} is: {} .\".format(epochNum,epochAcc))\n",
    "    return epochAcc, totalLoss"
   ]
  },
  {
   "cell_type": "markdown",
   "metadata": {},
   "source": [
    "Define a training f(x):"
   ]
  },
  {
   "cell_type": "code",
   "execution_count": 55,
   "metadata": {},
   "outputs": [],
   "source": [
    "#Inputs: 1) model 2) Number of epochs want to train for 3) training dataloader 4) loss function \n",
    "# 5) the device available (cpu or gpu/cuda --> hopefully it is the latter)\n",
    "\n",
    "#Outputs: 4 lists corresponding to a per epoch basis of accuracies and losses\n",
    "# 1) Training Accs 2) Training Losses 3) Validation Accuracies 4) Validation Losses\n",
    "\n",
    "def Train(model, numEpochs = epochs, data = train_loader, lossFn = criterion, device = pleaseBeGpu, modName=\"LankyKong\"):\n",
    "    \n",
    "    #Lists of training accuracies and losses to return for visualization later\n",
    "    losses = []\n",
    "    accuracies = []\n",
    "    \n",
    "    #do base case of untrained: \n",
    "    trainZeroAcc,trainZeroLoss = Validate(model, 0, data = train_loader)\n",
    "    accuracies.append(trainZeroAcc)\n",
    "    losses.append(trainZeroLoss)\n",
    "    del trainZeroAcc, trainZeroLoss\n",
    "    \n",
    "    \n",
    "    #Lists of validation accuracies and losses to return for visualization later\n",
    "    valAccs = []\n",
    "    valLosses = []\n",
    "    #do baseCase of untrained:\n",
    "    valZeroAcc,valZeroLoss = Validate(model, 0, data = val_loader)\n",
    "    valAccs.append(valZeroAcc)\n",
    "    valLosses.append(valZeroLoss)\n",
    "    del valZeroAcc,valZeroLoss\n",
    "    \n",
    "    #Early stopping structures: \n",
    "    stop = EarlyStop(patience) #Create an EarlyStop object that will evaluate and save the best model if patience has been exceeded\n",
    "    areWeThereYet = False #flag for condition of early stopping\n",
    "    topDog = None #Best model to save if early stopping condition has been met\n",
    "    \n",
    "    #whereStopped = -1 #if early stopping where did it stop? --> new value that is returned will give the number of epochs trained + 1 so that plotting is easy\n",
    "    \n",
    "    for epoch in range(numEpochs):\n",
    "        model.train() # turn on batch norm and dropout\n",
    "        numerator = 0\n",
    "        # numBatches = 0 in case want to know how many batches iterating through\n",
    "        totalSamples = 0\n",
    "        totalLoss = 0\n",
    "        for i, (snpBatch, phenotypeBatch) in enumerate(data):\n",
    "            #numBatches += 1 \n",
    "            #print(snpBatch)\n",
    "            #print(phenotypeBatch)\n",
    "            totalSamples += len(phenotypeBatch) #running total of number of samples\n",
    "            \n",
    "            optimizer.zero_grad() #zero the gradient to prevent accumulation; apparently can also do model.zero_grad() as well and does the same thing...\n",
    "            \n",
    "            #move labels to gpu (hopefully)\n",
    "            snpBatch = snpBatch.to(device)\n",
    "            phenotypeBatch = phenotypeBatch.to(device)\n",
    "            \n",
    "            #Run it:\n",
    "            output = model(snpBatch)\n",
    "            loss = lossFn(output[0], phenotypeBatch.squeeze(1)) #recall output returns a list to handle multi-task learning so here the prediction is output[0]\n",
    "            \n",
    "            #Calculate accuracy:\n",
    "            numerator += AccuracyCalc(output[0], phenotypeBatch.squeeze(1))\n",
    "            totalLoss += loss.item()\n",
    "            \n",
    "            #Train it: \n",
    "            loss.backward()\n",
    "            optimizer.step()\n",
    "\n",
    "            \n",
    "        epochAcc = numerator/(totalSamples)\n",
    "        print(\"Training accuracy at epoch {} is: {} .\".format(epoch+1,epochAcc))\n",
    "        print(\"Training loss at epoch {} is : {} .\".format(epoch+1, totalLoss))\n",
    "        accuracies.append(epochAcc)\n",
    "        losses.append(totalLoss)\n",
    "        \n",
    "        #Make some sort of call to Val when finished --> can discuss how want to do this of not a happy camper w/ this\n",
    "        valAcc, valLoss = Validate(model, epoch + 1, data = val_loader)\n",
    "        valAccs.append(valAcc)\n",
    "        valLosses.append(valLoss)\n",
    "        \n",
    "        #Early Stopping: \n",
    "        areWeThereYet, topDog = stop(valLoss, model)\n",
    "        if areWeThereYet:\n",
    "            #Change this name later so can include hyperparametrs, etc\n",
    "            torch.save(topDog.state_dict(), '../models/{}.pt'.format(\"BestModel_\"+ modName + \"_\" +str(epoch) +\"_epochs_\" + str(numLayers) + \"_hiddenLayers\")) \n",
    "            print(\"Early stopping at epoch:\" + str(epoch+1))\n",
    "            #whereStopped = epoch + 1\n",
    "            break\n",
    "        \n",
    "        \n",
    "    #Save final model if no early stopping\n",
    "    if not areWeThereYet:\n",
    "        print(\"Ugh didn't get to go home early, well lets save the final epoch model anyway.\")\n",
    "        torch.save(topDog.state_dict(), '../models/{}.pt'.format(\"BestModel_\" + modName + \"_\" +str(epochs) +\"_epochs_\" + str(numLayers) + \"_hiddenLayers\"))\n",
    "        #whereStopped = numEpochs + 1\n",
    "    return accuracies, losses, valAccs, valLosses #, whereStopped"
   ]
  },
  {
   "cell_type": "code",
   "execution_count": 23,
   "metadata": {},
   "outputs": [
    {
     "name": "stdout",
     "output_type": "stream",
     "text": [
      "Validation accuracy at epoch 0 is: 0.008491508491508492 .\n",
      "Validation accuracy at epoch 0 is: 0.014 .\n",
      "Training accuracy at epoch 1 is: 0.6638361638361638 .\n",
      "Training loss at epoch 1 is : 59.99951782822609 .\n",
      "Validation accuracy at epoch 1 is: 0.798 .\n",
      "Going down no need to do anything... good job!\n",
      "Training accuracy at epoch 2 is: 0.7982017982017982 .\n",
      "Training loss at epoch 2 is : 44.37645880877972 .\n",
      "Validation accuracy at epoch 2 is: 0.816 .\n",
      "Going down no need to do anything... good job!\n",
      "Training accuracy at epoch 3 is: 0.8056943056943057 .\n",
      "Training loss at epoch 3 is : 37.78162218630314 .\n",
      "Validation accuracy at epoch 3 is: 0.78 .\n",
      "Entering the thunderdome...\n",
      "Training accuracy at epoch 4 is: 0.8186813186813187 .\n",
      "Training loss at epoch 4 is : 42.48731164634228 .\n",
      "Validation accuracy at epoch 4 is: 0.8 .\n",
      "Going down no need to do anything... good job!\n",
      "Training accuracy at epoch 5 is: 0.8321678321678322 .\n",
      "Training loss at epoch 5 is : 32.89937302470207 .\n",
      "Validation accuracy at epoch 5 is: 0.828 .\n",
      "Entering the thunderdome...\n",
      "Ugh didn't get to go home early, well lets save the final epoch model anyway.\n"
     ]
    }
   ],
   "source": [
    "# Test with dataloader\n",
    "#t_accs, t_losses, val_accs, val_losses, \\\n",
    "#    = Train(derekZoolander, numEpochs = epochs, data = train_loader, lossFn = criterion, device = pleaseBeGpu)"
   ]
  },
  {
   "cell_type": "markdown",
   "metadata": {},
   "source": [
    "Quick Test run to ensure skeleton code (should) work(s):"
   ]
  },
  {
   "cell_type": "markdown",
   "metadata": {},
   "source": [
    "**Seems to run properly!**"
   ]
  },
  {
   "cell_type": "markdown",
   "metadata": {},
   "source": [
    "Main F(x) (or some sort of cohesive structure) and Plotting: Tbd"
   ]
  },
  {
   "cell_type": "code",
   "execution_count": 24,
   "metadata": {},
   "outputs": [
    {
     "data": {
      "text/plain": [
       "Text(0.5, 1.0, 'Loss on training set and holdout set vs. number of epochs')"
      ]
     },
     "execution_count": 24,
     "metadata": {},
     "output_type": "execute_result"
    },
    {
     "data": {
      "image/png": "[encoded data removed]",
      "text/plain": [
       "<Figure size 432x360 with 1 Axes>"
      ]
     },
     "metadata": {
      "needs_background": "light"
     },
     "output_type": "display_data"
    }
   ],
   "source": [
    "# Loss plotting\n",
    "'''\n",
    "fig,ax = plt.subplots(figsize=(6,5))\n",
    "ax.set_ylabel('Losses')\n",
    "ax.set_xlabel('Epochs')\n",
    "_=ax.plot(range(0, endPlace), t_losses,'b-',color=\"blue\",label=\"train\")\n",
    "_=ax.plot(range(0, endPlace), val_losses,'b-',color=\"orange\",label=\"valid\")\n",
    "plt.legend()\n",
    "plt.title(\"Loss on training set and holdout set vs. number of epochs\")\n",
    "#plt.savefig()\n",
    "'''"
   ]
  },
  {
   "cell_type": "code",
   "execution_count": 25,
   "metadata": {},
   "outputs": [
    {
     "data": {
      "text/plain": [
       "Text(0.5, 1.0, 'Loss on training set and holdout set vs. number of epochs')"
      ]
     },
     "execution_count": 25,
     "metadata": {},
     "output_type": "execute_result"
    },
    {
     "data": {
      "image/png": "[encoded data removed]",
      "text/plain": [
       "<Figure size 432x360 with 1 Axes>"
      ]
     },
     "metadata": {
      "needs_background": "light"
     },
     "output_type": "display_data"
    }
   ],
   "source": [
    "'''\n",
    "# Accuracy plotting\n",
    "fig,ax = plt.subplots(figsize=(6,5))\n",
    "ax.set_ylabel('Accuracies')\n",
    "ax.set_xlabel('Epochs')\n",
    "_=ax.plot(range(0, endPlace), t_accs,'b-',color=\"blue\",label=\"train\")\n",
    "_=ax.plot(range(0, endPlace), val_accs,'b-',color=\"orange\",label=\"valid\")\n",
    "plt.legend()\n",
    "plt.title(\"Loss on training set and holdout set vs. number of epochs\")\n",
    "'''"
   ]
  },
  {
   "cell_type": "code",
   "execution_count": 26,
   "metadata": {},
   "outputs": [
    {
     "name": "stdout",
     "output_type": "stream",
     "text": [
      "Validation accuracy at epoch 0 is: 0.5280135823429541 .\n"
     ]
    }
   ],
   "source": [
    "# Running through the test set\n",
    "#test_acc, test_loss = Validate(derekZoolander, \n",
    "#                               epochNum=0, \n",
    "#                               data = test_loader, \n",
    "#                               lossFn = criterion, \n",
    "#                               device = pleaseBeGpu)"
   ]
  },
  {
   "cell_type": "markdown",
   "metadata": {},
   "source": [
    "For convenience before everything that was instantiated previously is here in case want to change later: Commented out cells are those that are hyperparameter searched for or instantiated differently in automagic handling of this..."
   ]
  },
  {
   "cell_type": "code",
   "execution_count": 56,
   "metadata": {},
   "outputs": [
    {
     "name": "stdout",
     "output_type": "stream",
     "text": [
      "What are we using? cuda\n",
      "Using Weighted Cross Entropy as Loss f(x)\n"
     ]
    }
   ],
   "source": [
    "batchSize = 32\n",
    "numSNPs= 276569  \n",
    "\n",
    "#numLayers = 5\n",
    "#layerWidths = [512, 512, 256, 128, 64]\n",
    "\n",
    "dropout = 0.5\n",
    "multitaskOutputs = [3]\n",
    "learningRate = 5e-3\n",
    "epochs = 100\n",
    "patience = 5\n",
    "weighted = True #The flag for the loss function\n",
    "\n",
    "\n",
    "#derekZoolander = DiddyKongRacing([batchSize,numSNPs], numLayers, layerWidths, dropout, multitaskOutputs)\n",
    "#optimizer = optim.Adam(derekZoolander.parameters(), lr=learningRate)\n",
    "\n",
    "\n",
    "pleaseBeGpu = torch.device('cuda' if torch.cuda.is_available() else 'cpu')\n",
    "print(\"What are we using? {}\".format(pleaseBeGpu))\n",
    "\n",
    "#derekZoolander = derekZoolander.to(pleaseBeGpu)\n",
    "\n",
    "soHeavy = [1/1784, 1/214 , 1/5]  # 1/class_size for now\n",
    "torchMe = torch.FloatTensor(soHeavy).to(pleaseBeGpu)\n",
    "if weighted:\n",
    "    criterion = nn.CrossEntropyLoss(weight=torchMe)  # Implement weighted loss\n",
    "    print(\"Using Weighted Cross Entropy as Loss f(x)\")\n",
    "else: \n",
    "    criterion = nn.CrossEntropyLoss()\n",
    "    print(\"Using unweighted Cross Entropy as Loss f(x)\")"
   ]
  },
  {
   "cell_type": "code",
   "execution_count": 64,
   "metadata": {},
   "outputs": [
    {
     "name": "stdout",
     "output_type": "stream",
     "text": [
      "\n",
      "\n",
      "A ba ba boua ba ba: Layers are initializing...\n",
      "Adding linear layer from 276569 nodes to 512 nodes...\n",
      "[Linear(in_features=276569, out_features=512, bias=True), BatchNorm1d(512, eps=1e-05, momentum=0.1, affine=True, track_running_stats=True), Dropout(p=0.5, inplace=False), ReLU(inplace=True)]\n",
      "Initializing Weights...\n",
      "Adding linear layer from 512 nodes to 512 nodes...\n",
      "[Linear(in_features=512, out_features=512, bias=True), BatchNorm1d(512, eps=1e-05, momentum=0.1, affine=True, track_running_stats=True), Dropout(p=0.5, inplace=False), ReLU(inplace=True)]\n",
      "Initializing Weights...\n",
      "Adding linear layer from 512 nodes to 512 nodes...\n",
      "[Linear(in_features=512, out_features=512, bias=True), BatchNorm1d(512, eps=1e-05, momentum=0.1, affine=True, track_running_stats=True), Dropout(p=0.5, inplace=False), ReLU(inplace=True)]\n",
      "Initializing Weights...\n",
      "Adding linear layer from 512 nodes to 512 nodes...\n",
      "[Linear(in_features=512, out_features=512, bias=True), BatchNorm1d(512, eps=1e-05, momentum=0.1, affine=True, track_running_stats=True), Dropout(p=0.5, inplace=False), ReLU(inplace=True)]\n",
      "Initializing Weights...\n",
      "Adding linear layer from 512 nodes to 512 nodes...\n",
      "[Linear(in_features=512, out_features=512, bias=True), BatchNorm1d(512, eps=1e-05, momentum=0.1, affine=True, track_running_stats=True), Dropout(p=0.5, inplace=False), ReLU(inplace=True)]\n",
      "Initializing Weights...\n",
      "The angry aztec sends his llama regards: Multi-task layers initializing...\n",
      "Adding multi-task linear layer from 512 nodes to 3 nodes\n",
      "Initializing Weights...\n",
      "Validation accuracy at epoch 0 is: 0.1068931068931069 .\n",
      "Validation accuracy at epoch 0 is: 0.106 .\n",
      "Training accuracy at epoch 1 is: 0.7737262737262737 .\n",
      "Training loss at epoch 1 is : 68.50284121930599 .\n",
      "Validation accuracy at epoch 1 is: 0.788 .\n",
      "Going down no need to do anything... good job!\n",
      "Training accuracy at epoch 2 is: 0.8351648351648352 .\n",
      "Training loss at epoch 2 is : 52.68667308986187 .\n",
      "Validation accuracy at epoch 2 is: 0.838 .\n",
      "Going down no need to do anything... good job!\n",
      "Ugh didn't get to go home early, well lets save the final epoch model anyway.\n",
      "\n",
      "\n",
      "A ba ba boua ba ba: Layers are initializing...\n",
      "Adding linear layer from 276569 nodes to 256 nodes...\n",
      "[Linear(in_features=276569, out_features=256, bias=True), BatchNorm1d(256, eps=1e-05, momentum=0.1, affine=True, track_running_stats=True), Dropout(p=0.5, inplace=False), ReLU(inplace=True)]\n",
      "Initializing Weights...\n",
      "Adding linear layer from 256 nodes to 256 nodes...\n",
      "[Linear(in_features=256, out_features=256, bias=True), BatchNorm1d(256, eps=1e-05, momentum=0.1, affine=True, track_running_stats=True), Dropout(p=0.5, inplace=False), ReLU(inplace=True)]\n",
      "Initializing Weights...\n",
      "Adding linear layer from 256 nodes to 256 nodes...\n",
      "[Linear(in_features=256, out_features=256, bias=True), BatchNorm1d(256, eps=1e-05, momentum=0.1, affine=True, track_running_stats=True), Dropout(p=0.5, inplace=False), ReLU(inplace=True)]\n",
      "Initializing Weights...\n",
      "Adding linear layer from 256 nodes to 256 nodes...\n",
      "[Linear(in_features=256, out_features=256, bias=True), BatchNorm1d(256, eps=1e-05, momentum=0.1, affine=True, track_running_stats=True), Dropout(p=0.5, inplace=False), ReLU(inplace=True)]\n",
      "Initializing Weights...\n",
      "Adding linear layer from 256 nodes to 128 nodes...\n",
      "[Linear(in_features=256, out_features=128, bias=True), BatchNorm1d(128, eps=1e-05, momentum=0.1, affine=True, track_running_stats=True), Dropout(p=0.5, inplace=False), ReLU(inplace=True)]\n",
      "Initializing Weights...\n",
      "The angry aztec sends his llama regards: Multi-task layers initializing...\n",
      "Adding multi-task linear layer from 128 nodes to 3 nodes\n",
      "Initializing Weights...\n",
      "Validation accuracy at epoch 0 is: 0.0024975024975024975 .\n",
      "Validation accuracy at epoch 0 is: 0.004 .\n",
      "Training accuracy at epoch 1 is: 0.7397602397602397 .\n",
      "Training loss at epoch 1 is : 58.091199830174446 .\n",
      "Validation accuracy at epoch 1 is: 0.806 .\n",
      "Going down no need to do anything... good job!\n",
      "Training accuracy at epoch 2 is: 0.8336663336663337 .\n",
      "Training loss at epoch 2 is : 37.9582594782114 .\n",
      "Validation accuracy at epoch 2 is: 0.838 .\n",
      "Going down no need to do anything... good job!\n",
      "Ugh didn't get to go home early, well lets save the final epoch model anyway.\n",
      "\n",
      "\n",
      "A ba ba boua ba ba: Layers are initializing...\n",
      "Adding linear layer from 276569 nodes to 1024 nodes...\n",
      "[Linear(in_features=276569, out_features=1024, bias=True), BatchNorm1d(1024, eps=1e-05, momentum=0.1, affine=True, track_running_stats=True), Dropout(p=0.5, inplace=False), ReLU(inplace=True)]\n",
      "Initializing Weights...\n",
      "Adding linear layer from 1024 nodes to 256 nodes...\n",
      "[Linear(in_features=1024, out_features=256, bias=True), BatchNorm1d(256, eps=1e-05, momentum=0.1, affine=True, track_running_stats=True), Dropout(p=0.5, inplace=False), ReLU(inplace=True)]\n",
      "Initializing Weights...\n",
      "Adding linear layer from 256 nodes to 32 nodes...\n",
      "[Linear(in_features=256, out_features=32, bias=True), BatchNorm1d(32, eps=1e-05, momentum=0.1, affine=True, track_running_stats=True), Dropout(p=0.5, inplace=False), ReLU(inplace=True)]\n",
      "Initializing Weights...\n",
      "The angry aztec sends his llama regards: Multi-task layers initializing...\n",
      "Adding multi-task linear layer from 32 nodes to 3 nodes\n",
      "Initializing Weights...\n",
      "Validation accuracy at epoch 0 is: 0.10739260739260739 .\n",
      "Validation accuracy at epoch 0 is: 0.108 .\n",
      "Training accuracy at epoch 1 is: 0.6688311688311688 .\n",
      "Training loss at epoch 1 is : 48.4717780649662 .\n",
      "Validation accuracy at epoch 1 is: 0.814 .\n",
      "Going down no need to do anything... good job!\n",
      "Training accuracy at epoch 2 is: 0.8126873126873126 .\n",
      "Training loss at epoch 2 is : 41.52926640212536 .\n",
      "Validation accuracy at epoch 2 is: 0.808 .\n",
      "Going down no need to do anything... good job!\n",
      "Ugh didn't get to go home early, well lets save the final epoch model anyway.\n"
     ]
    }
   ],
   "source": [
    "if __name__ == \"__main__\":\n",
    "    hyperParameterSearchFile = pd.read_csv(\"TestingForAutomation.csv\") #--> Don't trample me Stu Pickles I used read_csv... \n",
    "    \n",
    "    for i, row in hyperParameterSearchFile.iterrows():\n",
    "        numLayers = row[\"Num_hidden_layers\"]\n",
    "        layerWidths = list(map(int, row[\"Layer_widths\"].split(\",\")))\n",
    "        hansel = DiddyKongRacing([batchSize,numSNPs], numLayers, layerWidths, dropout, multitaskOutputs)\n",
    "        optimizer = optim.Adam(hansel.parameters(), lr=learningRate)\n",
    "        \n",
    "        hansel = hansel.to(pleaseBeGpu)\n",
    "        \n",
    "        t_accs, t_losses, val_accs, val_losses\\\n",
    "    = Train(hansel, numEpochs = epochs, data = train_loader, lossFn = criterion, device = pleaseBeGpu, modName = str(row[\"Model\"]))\n",
    "        \n",
    "        hyperParameterSearchFile.loc[i, \"Train_Acc\"] = t_accs[len(t_accs) - 1]\n",
    "        hyperParameterSearchFile.loc[i, \"Val_Acc\"] = val_accs[len(val_accs) - 1]\n",
    "        hyperParameterSearchFile.loc[i, \"Val_Loss\"] = val_losses[len(val_losses)-1]\n",
    "        hyperParameterSearchFile.loc[i, \"Train_Loss\"] = t_losses[len(t_losses) - 1]\n",
    "        hyperParameterSearchFile.loc[i, \"Early_Stopping_Epoch\"] = len(val_losses) - 1 #since handled 0 instance case the number of trained epochs is the length-1 \n",
    "        \n",
    "        \n",
    "        crossTraining = open(\"../Statistics/Model_\" + str(row[\"Model\"])+\"_TrainStatistics.txt\", 'w') #should be output in csv format\n",
    "        crossTraining.write(\"Loss,Acc\\n\")\n",
    "        for i in range(len(t_accs)): \n",
    "            crossTraining.write(str(t_losses[i]) + \",\" + str(t_accs[i])+ \"\\n\")\n",
    "        crossTraining.close()\n",
    "        \n",
    "        \n",
    "        trustButVerify = open(\"../Statistics/Model_\" + str(row[\"Model\"])+ \"_ValStatistics.txt\", 'w')\n",
    "        trustButVerify.write(\"Loss,Acc\\n\")\n",
    "        for i in range(len(val_accs)):\n",
    "            trustButVerify.write(str(val_losses[i]) + \",\" + str(val_accs[i])+ \"\\n\")\n",
    "        trustButVerify.close()\n",
    "        \n",
    "        \n",
    "        \n",
    "        del hansel,optimizer #don't want to save this each time --> best model is already saved in models folder \n",
    "        \n",
    "    hyperParameterSearchFile.to_csv(\"LookAtThisWizardry.csv\")"
   ]
  },
  {
   "cell_type": "code",
   "execution_count": 59,
   "metadata": {},
   "outputs": [
    {
     "data": {
      "text/html": [
       "<div>\n",
       "<style scoped>\n",
       "    .dataframe tbody tr th:only-of-type {\n",
       "        vertical-align: middle;\n",
       "    }\n",
       "\n",
       "    .dataframe tbody tr th {\n",
       "        vertical-align: top;\n",
       "    }\n",
       "\n",
       "    .dataframe thead th {\n",
       "        text-align: right;\n",
       "    }\n",
       "</style>\n",
       "<table border=\"1\" class=\"dataframe\">\n",
       "  <thead>\n",
       "    <tr style=\"text-align: right;\">\n",
       "      <th></th>\n",
       "      <th>Model</th>\n",
       "      <th>Num_hidden_layers</th>\n",
       "      <th>Layer_widths</th>\n",
       "      <th>Train_Acc</th>\n",
       "      <th>Val_Acc</th>\n",
       "      <th>Train_Loss</th>\n",
       "      <th>Val_Loss</th>\n",
       "      <th>Early_Stopping_Epoch</th>\n",
       "    </tr>\n",
       "  </thead>\n",
       "  <tbody>\n",
       "    <tr>\n",
       "      <th>0</th>\n",
       "      <td>1</td>\n",
       "      <td>5</td>\n",
       "      <td>512,512,512,512,512</td>\n",
       "      <td>0.843157</td>\n",
       "      <td>0.858</td>\n",
       "      <td>41.746077</td>\n",
       "      <td>10.422648</td>\n",
       "      <td>2.0</td>\n",
       "    </tr>\n",
       "    <tr>\n",
       "      <th>1</th>\n",
       "      <td>2</td>\n",
       "      <td>5</td>\n",
       "      <td>256,256,256,256,128</td>\n",
       "      <td>0.787712</td>\n",
       "      <td>0.822</td>\n",
       "      <td>42.094732</td>\n",
       "      <td>8.980094</td>\n",
       "      <td>2.0</td>\n",
       "    </tr>\n",
       "    <tr>\n",
       "      <th>2</th>\n",
       "      <td>3</td>\n",
       "      <td>3</td>\n",
       "      <td>1024,256,32</td>\n",
       "      <td>0.805195</td>\n",
       "      <td>0.856</td>\n",
       "      <td>43.980139</td>\n",
       "      <td>8.341405</td>\n",
       "      <td>2.0</td>\n",
       "    </tr>\n",
       "  </tbody>\n",
       "</table>\n",
       "</div>"
      ],
      "text/plain": [
       "   Model  Num_hidden_layers         Layer_widths  Train_Acc  Val_Acc  \\\n",
       "0      1                  5  512,512,512,512,512   0.843157    0.858   \n",
       "1      2                  5  256,256,256,256,128   0.787712    0.822   \n",
       "2      3                  3          1024,256,32   0.805195    0.856   \n",
       "\n",
       "   Train_Loss   Val_Loss  Early_Stopping_Epoch  \n",
       "0   41.746077  10.422648                   2.0  \n",
       "1   42.094732   8.980094                   2.0  \n",
       "2   43.980139   8.341405                   2.0  "
      ]
     },
     "execution_count": 59,
     "metadata": {},
     "output_type": "execute_result"
    }
   ],
   "source": [
    "hyperParameterSearchFile.head()"
   ]
  },
  {
   "cell_type": "code",
   "execution_count": 65,
   "metadata": {},
   "outputs": [
    {
     "data": {
      "text/html": [
       "<div>\n",
       "<style scoped>\n",
       "    .dataframe tbody tr th:only-of-type {\n",
       "        vertical-align: middle;\n",
       "    }\n",
       "\n",
       "    .dataframe tbody tr th {\n",
       "        vertical-align: top;\n",
       "    }\n",
       "\n",
       "    .dataframe thead th {\n",
       "        text-align: right;\n",
       "    }\n",
       "</style>\n",
       "<table border=\"1\" class=\"dataframe\">\n",
       "  <thead>\n",
       "    <tr style=\"text-align: right;\">\n",
       "      <th></th>\n",
       "      <th>Loss</th>\n",
       "      <th>Acc</th>\n",
       "    </tr>\n",
       "  </thead>\n",
       "  <tbody>\n",
       "    <tr>\n",
       "      <th>0</th>\n",
       "      <td>70.442261</td>\n",
       "      <td>0.106893</td>\n",
       "    </tr>\n",
       "    <tr>\n",
       "      <th>1</th>\n",
       "      <td>68.502841</td>\n",
       "      <td>0.773726</td>\n",
       "    </tr>\n",
       "    <tr>\n",
       "      <th>2</th>\n",
       "      <td>52.686673</td>\n",
       "      <td>0.835165</td>\n",
       "    </tr>\n",
       "  </tbody>\n",
       "</table>\n",
       "</div>"
      ],
      "text/plain": [
       "        Loss       Acc\n",
       "0  70.442261  0.106893\n",
       "1  68.502841  0.773726\n",
       "2  52.686673  0.835165"
      ]
     },
     "execution_count": 65,
     "metadata": {},
     "output_type": "execute_result"
    }
   ],
   "source": [
    "pd.read_csv(\"../Statistics/Model_1_TrainStatistics.txt\")"
   ]
  },
  {
   "cell_type": "code",
   "execution_count": null,
   "metadata": {},
   "outputs": [],
   "source": []
  }
 ],
 "metadata": {
  "kernelspec": {
   "display_name": "Python 3",
   "language": "python",
   "name": "python3"
  },
  "language_info": {
   "codemirror_mode": {
    "name": "ipython",
    "version": 3
   },
   "file_extension": ".py",
   "mimetype": "text/x-python",
   "name": "python",
   "nbconvert_exporter": "python",
   "pygments_lexer": "ipython3",
   "version": "3.7.3"
  }
 },
 "nbformat": 4,
 "nbformat_minor": 4
}
